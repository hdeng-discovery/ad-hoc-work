{
 "cells": [
  {
   "cell_type": "code",
   "execution_count": 60,
   "metadata": {
    "ExecuteTime": {
     "end_time": "2020-11-30T19:48:25.596737Z",
     "start_time": "2020-11-30T19:48:25.591990Z"
    }
   },
   "outputs": [],
   "source": [
    "import time\n",
    "from xml.dom import minidom\n",
    "\n",
    "import json, pprint\n",
    "\n",
    "import requests\n",
    "from requests.packages.urllib3.exceptions import InsecureRequestWarning\n",
    "requests.packages.urllib3.disable_warnings(InsecureRequestWarning)\n"
   ]
  },
  {
   "cell_type": "code",
   "execution_count": 61,
   "metadata": {
    "ExecuteTime": {
     "end_time": "2020-11-30T19:48:26.030049Z",
     "start_time": "2020-11-30T19:48:26.021968Z"
    }
   },
   "outputs": [],
   "source": [
    "base_url = 'https://discovery.splunkcloud.com:8089'\n",
    "username = 'tableau_user'\n",
    "password = '9d23f85964476d364672742c2dfeafd1'\n",
    "\n",
    "output= 'csv'"
   ]
  },
  {
   "cell_type": "code",
   "execution_count": 62,
   "metadata": {
    "ExecuteTime": {
     "end_time": "2020-11-30T19:48:26.394236Z",
     "start_time": "2020-11-30T19:48:26.390099Z"
    }
   },
   "outputs": [],
   "source": [
    "search_query = '''\n",
    "search index=\"streaming\" api.request.uri=\"/v1/streaming/video/*\" earliest=-1h@h latest=-1h@h+59m+59s\n",
    "| spath path=api.response.body.vendorAttributes.upLynk.preplay.sid output=sid\n",
    "| search sid=*\n",
    "| spath path=api.request.headers.x_request_query_params output=api_query_params\n",
    "| spath path=api.response.epoch output=epoch\n",
    "| eval date=strftime(epoch,\"%m/%d/%y\")\n",
    "| eval hour=strftime(epoch,\"%m/%d/%y %H:00:00\")\n",
    "| eval api_query_params_temp = split(api_query_params, \"&\")\n",
    "| eval platform_group = mvindex(split(mvindex(split(mvindex(api_query_params_temp, mvfind(api_query_params_temp, \"adCsid=\")), \"=\"), 1),\"%2F\"),1)\n",
    "| eval device_type = mvindex(split(mvindex(split(mvindex(api_query_params_temp, mvfind(api_query_params_temp, \"adProfile=\")), \"=\"), 1),\"_\"),2)\n",
    "| eval device_temp = mvindex(split(mvindex(split(mvindex(api_query_params_temp, mvfind(api_query_params_temp, \"adCsid=\")), \"=\"), 1),\"%2F\"),2)\n",
    "| eval device = case(device_type=\"chromecast\", \"chromcast\", platform_group=\"web\" and device_temp in (\"\",\"macos\",\"desktop\"), \"desktop-web\", platform_group=\"web\" and device_temp in (\"ios\",\"android\"), \"mobile-web\", 1=1,device_temp)\n",
    "| eval adcaid = mvindex(split(mvindex(api_query_params_temp, mvfind(api_query_params_temp, \"adCaid=\")), \"=\"), 1)\n",
    "| eval brand = mvindex(split(mvindex(api_query_params_temp, mvfind(api_query_params_temp, \"product=\")), \"=\"), 1)\n",
    "| spath path=api.response.body.cuePoints{} output=midbreaks_avail\n",
    "| eval midbreaks_avail=if(isnull(midbreaks_avail) or midbreaks_avail=\"null\",\"\",midbreaks_avail)\n",
    "| eval midbreaks_avail_count=if(midbreaks_avail=\"\",0,mvcount(midbreaks_avail))\n",
    "| search midbreaks_avail_count>0\n",
    "| spath path=uplynk.response.body.ads.breaks.ad_count output=ad_break_count\n",
    "| eval zero_breaks = case(ad_break_count = 0, 1, 1=1, 0)\n",
    "| eval some_breaks = case(ad_break_count > 0, 1, 1=1, 0)\n",
    "| table date hour brand device zero_breaks some_breaks\n",
    "| stats sum(zero_breaks) as zero_breaks sum(some_breaks) as some_breaks by date hour brand device\n",
    "'''"
   ]
  },
  {
   "cell_type": "code",
   "execution_count": 63,
   "metadata": {
    "ExecuteTime": {
     "end_time": "2020-11-30T19:48:27.128765Z",
     "start_time": "2020-11-30T19:48:27.124832Z"
    }
   },
   "outputs": [],
   "source": [
    "# r = requests.get(base_url+\"/servicesNS/admin/search/auth/login\",\n",
    "#                  data={'username':username,'password':password}, verify=False)\n",
    "\n",
    "# session_key = minidom.parseString(r.text).getElementsByTagName('sessionKey')[0].firstChild.nodeValue\n",
    "# print (\"Session Key:\", session_key)"
   ]
  },
  {
   "cell_type": "code",
   "execution_count": 88,
   "metadata": {
    "ExecuteTime": {
     "end_time": "2020-11-30T19:57:07.347017Z",
     "start_time": "2020-11-30T19:57:07.110359Z"
    }
   },
   "outputs": [
    {
     "data": {
      "text/plain": [
       "'<?xml version=\"1.0\" encoding=\"UTF-8\"?>\\n<response>\\n  <sid>1606766227.4333509_F5F42097-DD8F-4BA5-8BB2-DF2A822D40F2</sid>\\n</response>\\n'"
      ]
     },
     "execution_count": 88,
     "metadata": {},
     "output_type": "execute_result"
    }
   ],
   "source": [
    "# standard_library.install_aliases()\n",
    "import urllib.request, urllib.parse, urllib.error\n",
    "r = requests.post(base_url + '/services/search/jobs/', data=urllib.parse.urlencode({'search': search_query}),\n",
    "                  auth=(username, password),\n",
    "                  verify = False)\n",
    "r.text"
   ]
  },
  {
   "cell_type": "code",
   "execution_count": 89,
   "metadata": {
    "ExecuteTime": {
     "end_time": "2020-11-30T19:57:07.983852Z",
     "start_time": "2020-11-30T19:57:07.977244Z"
    }
   },
   "outputs": [
    {
     "name": "stdout",
     "output_type": "stream",
     "text": [
      "Search ID 1606766227.4333509_F5F42097-DD8F-4BA5-8BB2-DF2A822D40F2\n"
     ]
    }
   ],
   "source": [
    "sid = minidom.parseString(r.text).getElementsByTagName('sid')[0].firstChild.nodeValue\n",
    "print (\"Search ID\", sid)"
   ]
  },
  {
   "cell_type": "code",
   "execution_count": 90,
   "metadata": {
    "ExecuteTime": {
     "end_time": "2020-11-30T19:57:08.612643Z",
     "start_time": "2020-11-30T19:57:08.609894Z"
    }
   },
   "outputs": [],
   "source": [
    "# Search ID 1606759181.4360243_3967FE72-450A-4119-9892-B86439CFC34B"
   ]
  },
  {
   "cell_type": "code",
   "execution_count": 91,
   "metadata": {
    "ExecuteTime": {
     "end_time": "2020-11-30T19:57:35.777482Z",
     "start_time": "2020-11-30T19:57:09.357932Z"
    }
   },
   "outputs": [
    {
     "name": "stdout",
     "output_type": "stream",
     "text": [
      "Search Status:  RUNNING\n",
      "Search Status:  RUNNING\n",
      "Search Status:  RUNNING\n",
      "Search Status:  RUNNING\n",
      "Search Status:  RUNNING\n",
      "Search Status:  RUNNING\n",
      "Search Status:  RUNNING\n",
      "Search Status:  RUNNING\n",
      "Search Status:  RUNNING\n",
      "Search Status:  RUNNING\n",
      "Search Status:  RUNNING\n",
      "Search Status:  RUNNING\n",
      "Search Status:  RUNNING\n",
      "Search Status:  RUNNING\n",
      "Search Status:  RUNNING\n",
      "Search Status:  RUNNING\n",
      "Search Status:  DONE\n"
     ]
    }
   ],
   "source": [
    "done = False\n",
    "while not done:\n",
    "    r = requests.get(base_url + '/services/search/jobs/' + sid,\n",
    "        headers = { 'Authorization': ('Splunk %s' %session_key)},\n",
    "        verify = False)\n",
    "    response = minidom.parseString(r.text)\n",
    "    for node in response.getElementsByTagName(\"s:key\"):\n",
    "        if node.hasAttribute(\"name\") and node.getAttribute(\"name\") == \"dispatchState\":\n",
    "            dispatchState = node.firstChild.nodeValue\n",
    "            print (\"Search Status: \", dispatchState)\n",
    "            if dispatchState == \"DONE\":\n",
    "                done = True\n",
    "            else:\n",
    "                time.sleep(1)"
   ]
  },
  {
   "cell_type": "code",
   "execution_count": 92,
   "metadata": {
    "ExecuteTime": {
     "end_time": "2020-11-30T19:57:35.931060Z",
     "start_time": "2020-11-30T19:57:35.780458Z"
    }
   },
   "outputs": [],
   "source": [
    "r = requests.get(base_url + '/services/search/jobs/' + sid + '/results/',\n",
    "    headers = { 'Authorization': ('Splunk %s' %session_key)},\n",
    "    auth=(username, password),\n",
    "    params={'output_mode': 'json', 'count': 1000},\n",
    "    verify = False)"
   ]
  },
  {
   "cell_type": "code",
   "execution_count": 93,
   "metadata": {
    "ExecuteTime": {
     "end_time": "2020-11-30T19:57:35.939642Z",
     "start_time": "2020-11-30T19:57:35.934393Z"
    }
   },
   "outputs": [
    {
     "data": {
      "text/plain": [
       "'{\"preview\":false,\"init_offset\":0,\"messages\":[{\"type\":\"INFO\",\"text\":\"Your timerange was substituted based on your search string\"}],\"fields\":[{\"name\":\"date\",\"type\":\"str\",\"groupby_rank\":\"0\"},{\"name\":\"hour\",\"type\":\"str\",\"groupby_rank\":\"1\"},{\"name\":\"brand\",\"type\":\"str\",\"groupby_rank\":\"2\"},{\"name\":\"device\",\"type\":\"str\",\"groupby_rank\":\"3\"},{\"name\":\"zero_breaks\"},{\"name\":\"some_breaks\"}],\"results\":[{\"date\":\"11/30/20\",\"hour\":\"11/30/20 12:00:00\",\"brand\":\"ahc\",\"device\":\"firetv\",\"zero_breaks\":\"0\",\"some_breaks\":\"1\"},{\"date\":\"11/30/20\",\"hour\":\"11/30/20 12:00:00\",\"brand\":\"apl\",\"device\":\"android\",\"zero_breaks\":\"0\",\"some_breaks\":\"2\"},{\"date\":\"11/30/20\",\"hour\":\"11/30/20 12:00:00\",\"brand\":\"apl\",\"device\":\"desktop-web\",\"zero_breaks\":\"0\",\"some_breaks\":\"3\"},{\"date\":\"11/30/20\",\"hour\":\"11/30/20 12:00:00\",\"brand\":\"apl\",\"device\":\"firetv\",\"zero_breaks\":\"0\",\"some_breaks\":\"4\"},{\"date\":\"11/30/20\",\"hour\":\"11/30/20 12:00:00\",\"brand\":\"apl\",\"device\":\"ios\",\"zero_breaks\":\"0\",\"some_breaks\":\"1\"},{\"date\":\"11/30/20\",\"hour\":\"11/30/20 12:00:00\",\"brand\":\"apl\",\"device\":\"mobile-web\",\"zero_breaks\":\"0\",\"some_breaks\":\"2\"},{\"date\":\"11/30/20\",\"hour\":\"11/30/20 12:00:00\",\"brand\":\"apl\",\"device\":\"roku\",\"zero_breaks\":\"0\",\"some_breaks\":\"6\"},{\"date\":\"11/30/20\",\"hour\":\"11/30/20 12:00:00\",\"brand\":\"apl\",\"device\":\"tvos\",\"zero_breaks\":\"0\",\"some_breaks\":\"1\"},{\"date\":\"11/30/20\",\"hour\":\"11/30/20 12:00:00\",\"brand\":\"cook\",\"device\":\"android\",\"zero_breaks\":\"0\",\"some_breaks\":\"1\"},{\"date\":\"11/30/20\",\"hour\":\"11/30/20 12:00:00\",\"brand\":\"cook\",\"device\":\"androidtv\",\"zero_breaks\":\"0\",\"some_breaks\":\"1\"},{\"date\":\"11/30/20\",\"hour\":\"11/30/20 12:00:00\",\"brand\":\"cook\",\"device\":\"firetv\",\"zero_breaks\":\"0\",\"some_breaks\":\"2\"},{\"date\":\"11/30/20\",\"hour\":\"11/30/20 12:00:00\",\"brand\":\"cook\",\"device\":\"roku\",\"zero_breaks\":\"0\",\"some_breaks\":\"1\"},{\"date\":\"11/30/20\",\"hour\":\"11/30/20 12:00:00\",\"brand\":\"des\",\"device\":\"android\",\"zero_breaks\":\"0\",\"some_breaks\":\"3\"},{\"date\":\"11/30/20\",\"hour\":\"11/30/20 12:00:00\",\"brand\":\"des\",\"device\":\"chromcast\",\"zero_breaks\":\"0\",\"some_breaks\":\"1\"},{\"date\":\"11/30/20\",\"hour\":\"11/30/20 12:00:00\",\"brand\":\"des\",\"device\":\"ios\",\"zero_breaks\":\"0\",\"some_breaks\":\"4\"},{\"date\":\"11/30/20\",\"hour\":\"11/30/20 12:00:00\",\"brand\":\"des\",\"device\":\"roku\",\"zero_breaks\":\"0\",\"some_breaks\":\"4\"},{\"date\":\"11/30/20\",\"hour\":\"11/30/20 12:00:00\",\"brand\":\"diy\",\"device\":\"androidtv\",\"zero_breaks\":\"0\",\"some_breaks\":\"1\"},{\"date\":\"11/30/20\",\"hour\":\"11/30/20 12:00:00\",\"brand\":\"diy\",\"device\":\"ios\",\"zero_breaks\":\"0\",\"some_breaks\":\"1\"},{\"date\":\"11/30/20\",\"hour\":\"11/30/20 12:00:00\",\"brand\":\"diy\",\"device\":\"roku\",\"zero_breaks\":\"0\",\"some_breaks\":\"5\"},{\"date\":\"11/30/20\",\"hour\":\"11/30/20 12:00:00\",\"brand\":\"dlf\",\"device\":\"desktop-web\",\"zero_breaks\":\"0\",\"some_breaks\":\"1\"},{\"date\":\"11/30/20\",\"hour\":\"11/30/20 12:00:00\",\"brand\":\"dsc\",\"device\":\"android\",\"zero_breaks\":\"0\",\"some_breaks\":\"5\"},{\"date\":\"11/30/20\",\"hour\":\"11/30/20 12:00:00\",\"brand\":\"dsc\",\"device\":\"desktop-web\",\"zero_breaks\":\"0\",\"some_breaks\":\"4\"},{\"date\":\"11/30/20\",\"hour\":\"11/30/20 12:00:00\",\"brand\":\"dsc\",\"device\":\"firetv\",\"zero_breaks\":\"3\",\"some_breaks\":\"11\"},{\"date\":\"11/30/20\",\"hour\":\"11/30/20 12:00:00\",\"brand\":\"dsc\",\"device\":\"ios\",\"zero_breaks\":\"1\",\"some_breaks\":\"2\"},{\"date\":\"11/30/20\",\"hour\":\"11/30/20 12:00:00\",\"brand\":\"dsc\",\"device\":\"mobile-web\",\"zero_breaks\":\"0\",\"some_breaks\":\"3\"},{\"date\":\"11/30/20\",\"hour\":\"11/30/20 12:00:00\",\"brand\":\"dsc\",\"device\":\"roku\",\"zero_breaks\":\"8\",\"some_breaks\":\"24\"},{\"date\":\"11/30/20\",\"hour\":\"11/30/20 12:00:00\",\"brand\":\"dsc\",\"device\":\"samsung\",\"zero_breaks\":\"2\",\"some_breaks\":\"4\"},{\"date\":\"11/30/20\",\"hour\":\"11/30/20 12:00:00\",\"brand\":\"dsc\",\"device\":\"tvos\",\"zero_breaks\":\"1\",\"some_breaks\":\"5\"},{\"date\":\"11/30/20\",\"hour\":\"11/30/20 12:00:00\",\"brand\":\"dsc\",\"device\":\"xbox\",\"zero_breaks\":\"0\",\"some_breaks\":\"1\"},{\"date\":\"11/30/20\",\"hour\":\"11/30/20 12:00:00\",\"brand\":\"food\",\"device\":\"android\",\"zero_breaks\":\"0\",\"some_breaks\":\"2\"},{\"date\":\"11/30/20\",\"hour\":\"11/30/20 12:00:00\",\"brand\":\"food\",\"device\":\"androidtv\",\"zero_breaks\":\"0\",\"some_breaks\":\"1\"},{\"date\":\"11/30/20\",\"hour\":\"11/30/20 12:00:00\",\"brand\":\"food\",\"device\":\"chromcast\",\"zero_breaks\":\"0\",\"some_breaks\":\"1\"},{\"date\":\"11/30/20\",\"hour\":\"11/30/20 12:00:00\",\"brand\":\"food\",\"device\":\"desktop-web\",\"zero_breaks\":\"0\",\"some_breaks\":\"4\"},{\"date\":\"11/30/20\",\"hour\":\"11/30/20 12:00:00\",\"brand\":\"food\",\"device\":\"firetv\",\"zero_breaks\":\"5\",\"some_breaks\":\"19\"},{\"date\":\"11/30/20\",\"hour\":\"11/30/20 12:00:00\",\"brand\":\"food\",\"device\":\"ios\",\"zero_breaks\":\"0\",\"some_breaks\":\"3\"},{\"date\":\"11/30/20\",\"hour\":\"11/30/20 12:00:00\",\"brand\":\"food\",\"device\":\"roku\",\"zero_breaks\":\"8\",\"some_breaks\":\"21\"},{\"date\":\"11/30/20\",\"hour\":\"11/30/20 12:00:00\",\"brand\":\"food\",\"device\":\"samsung\",\"zero_breaks\":\"0\",\"some_breaks\":\"1\"},{\"date\":\"11/30/20\",\"hour\":\"11/30/20 12:00:00\",\"brand\":\"food\",\"device\":\"tvos\",\"zero_breaks\":\"1\",\"some_breaks\":\"7\"},{\"date\":\"11/30/20\",\"hour\":\"11/30/20 12:00:00\",\"brand\":\"hgtv\",\"device\":\"androidtv\",\"zero_breaks\":\"0\",\"some_breaks\":\"1\"},{\"date\":\"11/30/20\",\"hour\":\"11/30/20 12:00:00\",\"brand\":\"hgtv\",\"device\":\"firetv\",\"zero_breaks\":\"8\",\"some_breaks\":\"16\"},{\"date\":\"11/30/20\",\"hour\":\"11/30/20 12:00:00\",\"brand\":\"hgtv\",\"device\":\"ios\",\"zero_breaks\":\"0\",\"some_breaks\":\"4\"},{\"date\":\"11/30/20\",\"hour\":\"11/30/20 12:00:00\",\"brand\":\"hgtv\",\"device\":\"mobile-web\",\"zero_breaks\":\"0\",\"some_breaks\":\"1\"},{\"date\":\"11/30/20\",\"hour\":\"11/30/20 12:00:00\",\"brand\":\"hgtv\",\"device\":\"roku\",\"zero_breaks\":\"17\",\"some_breaks\":\"46\"},{\"date\":\"11/30/20\",\"hour\":\"11/30/20 12:00:00\",\"brand\":\"hgtv\",\"device\":\"samsung\",\"zero_breaks\":\"1\",\"some_breaks\":\"4\"},{\"date\":\"11/30/20\",\"hour\":\"11/30/20 12:00:00\",\"brand\":\"hgtv\",\"device\":\"tvos\",\"zero_breaks\":\"4\",\"some_breaks\":\"4\"},{\"date\":\"11/30/20\",\"hour\":\"11/30/20 12:00:00\",\"brand\":\"ids\",\"device\":\"android\",\"zero_breaks\":\"1\",\"some_breaks\":\"16\"},{\"date\":\"11/30/20\",\"hour\":\"11/30/20 12:00:00\",\"brand\":\"ids\",\"device\":\"chromcast\",\"zero_breaks\":\"0\",\"some_breaks\":\"1\"},{\"date\":\"11/30/20\",\"hour\":\"11/30/20 12:00:00\",\"brand\":\"ids\",\"device\":\"desktop-web\",\"zero_breaks\":\"0\",\"some_breaks\":\"6\"},{\"date\":\"11/30/20\",\"hour\":\"11/30/20 12:00:00\",\"brand\":\"ids\",\"device\":\"firetv\",\"zero_breaks\":\"1\",\"some_breaks\":\"26\"},{\"date\":\"11/30/20\",\"hour\":\"11/30/20 12:00:00\",\"brand\":\"ids\",\"device\":\"ios\",\"zero_breaks\":\"2\",\"some_breaks\":\"22\"},{\"date\":\"11/30/20\",\"hour\":\"11/30/20 12:00:00\",\"brand\":\"ids\",\"device\":\"mobile-web\",\"zero_breaks\":\"0\",\"some_breaks\":\"3\"},{\"date\":\"11/30/20\",\"hour\":\"11/30/20 12:00:00\",\"brand\":\"ids\",\"device\":\"roku\",\"zero_breaks\":\"4\",\"some_breaks\":\"54\"},{\"date\":\"11/30/20\",\"hour\":\"11/30/20 12:00:00\",\"brand\":\"ids\",\"device\":\"tvos\",\"zero_breaks\":\"0\",\"some_breaks\":\"3\"},{\"date\":\"11/30/20\",\"hour\":\"11/30/20 12:00:00\",\"brand\":\"own\",\"device\":\"android\",\"zero_breaks\":\"0\",\"some_breaks\":\"2\"},{\"date\":\"11/30/20\",\"hour\":\"11/30/20 12:00:00\",\"brand\":\"own\",\"device\":\"firetv\",\"zero_breaks\":\"1\",\"some_breaks\":\"7\"},{\"date\":\"11/30/20\",\"hour\":\"11/30/20 12:00:00\",\"brand\":\"own\",\"device\":\"ios\",\"zero_breaks\":\"1\",\"some_breaks\":\"9\"},{\"date\":\"11/30/20\",\"hour\":\"11/30/20 12:00:00\",\"brand\":\"own\",\"device\":\"roku\",\"zero_breaks\":\"1\",\"some_breaks\":\"5\"},{\"date\":\"11/30/20\",\"hour\":\"11/30/20 12:00:00\",\"brand\":\"own\",\"device\":\"tvos\",\"zero_breaks\":\"2\",\"some_breaks\":\"2\"},{\"date\":\"11/30/20\",\"hour\":\"11/30/20 12:00:00\",\"brand\":\"sci\",\"device\":\"android\",\"zero_breaks\":\"0\",\"some_breaks\":\"1\"},{\"date\":\"11/30/20\",\"hour\":\"11/30/20 12:00:00\",\"brand\":\"sci\",\"device\":\"desktop-web\",\"zero_breaks\":\"0\",\"some_breaks\":\"2\"},{\"date\":\"11/30/20\",\"hour\":\"11/30/20 12:00:00\",\"brand\":\"sci\",\"device\":\"tvos\",\"zero_breaks\":\"0\",\"some_breaks\":\"2\"},{\"date\":\"11/30/20\",\"hour\":\"11/30/20 12:00:00\",\"brand\":\"tlc\",\"device\":\"android\",\"zero_breaks\":\"1\",\"some_breaks\":\"16\"},{\"date\":\"11/30/20\",\"hour\":\"11/30/20 12:00:00\",\"brand\":\"tlc\",\"device\":\"chromcast\",\"zero_breaks\":\"1\",\"some_breaks\":\"3\"},{\"date\":\"11/30/20\",\"hour\":\"11/30/20 12:00:00\",\"brand\":\"tlc\",\"device\":\"desktop-web\",\"zero_breaks\":\"1\",\"some_breaks\":\"11\"},{\"date\":\"11/30/20\",\"hour\":\"11/30/20 12:00:00\",\"brand\":\"tlc\",\"device\":\"firetv\",\"zero_breaks\":\"6\",\"some_breaks\":\"32\"},{\"date\":\"11/30/20\",\"hour\":\"11/30/20 12:00:00\",\"brand\":\"tlc\",\"device\":\"ios\",\"zero_breaks\":\"6\",\"some_breaks\":\"48\"},{\"date\":\"11/30/20\",\"hour\":\"11/30/20 12:00:00\",\"brand\":\"tlc\",\"device\":\"mobile-web\",\"zero_breaks\":\"0\",\"some_breaks\":\"6\"},{\"date\":\"11/30/20\",\"hour\":\"11/30/20 12:00:00\",\"brand\":\"tlc\",\"device\":\"roku\",\"zero_breaks\":\"7\",\"some_breaks\":\"58\"},{\"date\":\"11/30/20\",\"hour\":\"11/30/20 12:00:00\",\"brand\":\"tlc\",\"device\":\"samsung\",\"zero_breaks\":\"4\",\"some_breaks\":\"6\"},{\"date\":\"11/30/20\",\"hour\":\"11/30/20 12:00:00\",\"brand\":\"tlc\",\"device\":\"tvos\",\"zero_breaks\":\"3\",\"some_breaks\":\"10\"},{\"date\":\"11/30/20\",\"hour\":\"11/30/20 12:00:00\",\"brand\":\"tlc\",\"device\":\"xbox\",\"zero_breaks\":\"1\",\"some_breaks\":\"2\"},{\"date\":\"11/30/20\",\"hour\":\"11/30/20 12:00:00\",\"brand\":\"trav\",\"device\":\"android\",\"zero_breaks\":\"1\",\"some_breaks\":\"5\"},{\"date\":\"11/30/20\",\"hour\":\"11/30/20 12:00:00\",\"brand\":\"trav\",\"device\":\"androidtv\",\"zero_breaks\":\"0\",\"some_breaks\":\"1\"},{\"date\":\"11/30/20\",\"hour\":\"11/30/20 12:00:00\",\"brand\":\"trav\",\"device\":\"firetv\",\"zero_breaks\":\"1\",\"some_breaks\":\"8\"},{\"date\":\"11/30/20\",\"hour\":\"11/30/20 12:00:00\",\"brand\":\"trav\",\"device\":\"ios\",\"zero_breaks\":\"0\",\"some_breaks\":\"4\"},{\"date\":\"11/30/20\",\"hour\":\"11/30/20 12:00:00\",\"brand\":\"trav\",\"device\":\"roku\",\"zero_breaks\":\"3\",\"some_breaks\":\"9\"},{\"date\":\"11/30/20\",\"hour\":\"11/30/20 12:00:00\",\"brand\":\"trav\",\"device\":\"samsung\",\"zero_breaks\":\"0\",\"some_breaks\":\"3\"},{\"date\":\"11/30/20\",\"hour\":\"11/30/20 12:00:00\",\"brand\":\"trav\",\"device\":\"tvos\",\"zero_breaks\":\"0\",\"some_breaks\":\"2\"},{\"date\":\"11/30/20\",\"hour\":\"11/30/20 12:00:00\",\"brand\":\"trav\",\"device\":\"xbox\",\"zero_breaks\":\"1\",\"some_breaks\":\"2\"},{\"date\":\"11/30/20\",\"hour\":\"11/30/20 12:00:00\",\"brand\":\"vel\",\"device\":\"firetv\",\"zero_breaks\":\"0\",\"some_breaks\":\"1\"},{\"date\":\"11/30/20\",\"hour\":\"11/30/20 13:00:00\",\"brand\":\"ahc\",\"device\":\"android\",\"zero_breaks\":\"0\",\"some_breaks\":\"9\"},{\"date\":\"11/30/20\",\"hour\":\"11/30/20 13:00:00\",\"brand\":\"ahc\",\"device\":\"desktop-web\",\"zero_breaks\":\"0\",\"some_breaks\":\"8\"},{\"date\":\"11/30/20\",\"hour\":\"11/30/20 13:00:00\",\"brand\":\"ahc\",\"device\":\"firetv\",\"zero_breaks\":\"0\",\"some_breaks\":\"20\"},{\"date\":\"11/30/20\",\"hour\":\"11/30/20 13:00:00\",\"brand\":\"ahc\",\"device\":\"ios\",\"zero_breaks\":\"0\",\"some_breaks\":\"7\"},{\"date\":\"11/30/20\",\"hour\":\"11/30/20 13:00:00\",\"brand\":\"ahc\",\"device\":\"mobile-web\",\"zero_breaks\":\"0\",\"some_breaks\":\"5\"},{\"date\":\"11/30/20\",\"hour\":\"11/30/20 13:00:00\",\"brand\":\"ahc\",\"device\":\"roku\",\"zero_breaks\":\"0\",\"some_breaks\":\"16\"},{\"date\":\"11/30/20\",\"hour\":\"11/30/20 13:00:00\",\"brand\":\"ahc\",\"device\":\"tvos\",\"zero_breaks\":\"0\",\"some_breaks\":\"5\"},{\"date\":\"11/30/20\",\"hour\":\"11/30/20 13:00:00\",\"brand\":\"ahc\",\"device\":\"xbox\",\"zero_breaks\":\"0\",\"some_breaks\":\"1\"},{\"date\":\"11/30/20\",\"hour\":\"11/30/20 13:00:00\",\"brand\":\"apl\",\"device\":\"android\",\"zero_breaks\":\"2\",\"some_breaks\":\"169\"},{\"date\":\"11/30/20\",\"hour\":\"11/30/20 13:00:00\",\"brand\":\"apl\",\"device\":\"apl\",\"zero_breaks\":\"0\",\"some_breaks\":\"3\"},{\"date\":\"11/30/20\",\"hour\":\"11/30/20 13:00:00\",\"brand\":\"apl\",\"device\":\"chromcast\",\"zero_breaks\":\"2\",\"some_breaks\":\"16\"},{\"date\":\"11/30/20\",\"hour\":\"11/30/20 13:00:00\",\"brand\":\"apl\",\"device\":\"desktop-web\",\"zero_breaks\":\"1\",\"some_breaks\":\"193\"},{\"date\":\"11/30/20\",\"hour\":\"11/30/20 13:00:00\",\"brand\":\"apl\",\"device\":\"firetv\",\"zero_breaks\":\"18\",\"some_breaks\":\"477\"},{\"date\":\"11/30/20\",\"hour\":\"11/30/20 13:00:00\",\"brand\":\"apl\",\"device\":\"ios\",\"zero_breaks\":\"7\",\"some_breaks\":\"205\"},{\"date\":\"11/30/20\",\"hour\":\"11/30/20 13:00:00\",\"brand\":\"apl\",\"device\":\"mobile-web\",\"zero_breaks\":\"0\",\"some_breaks\":\"122\"},{\"date\":\"11/30/20\",\"hour\":\"11/30/20 13:00:00\",\"brand\":\"apl\",\"device\":\"roku\",\"zero_breaks\":\"51\",\"some_breaks\":\"1105\"},{\"date\":\"11/30/20\",\"hour\":\"11/30/20 13:00:00\",\"brand\":\"apl\",\"device\":\"samsung\",\"zero_breaks\":\"0\",\"some_breaks\":\"63\"},{\"date\":\"11/30/20\",\"hour\":\"11/30/20 13:00:00\",\"brand\":\"apl\",\"device\":\"tvos\",\"zero_breaks\":\"15\",\"some_breaks\":\"154\"},{\"date\":\"11/30/20\",\"hour\":\"11/30/20 13:00:00\",\"brand\":\"apl\",\"device\":\"xbox\",\"zero_breaks\":\"3\",\"some_breaks\":\"39\"},{\"date\":\"11/30/20\",\"hour\":\"11/30/20 13:00:00\",\"brand\":\"cook\",\"device\":\"android\",\"zero_breaks\":\"0\",\"some_breaks\":\"19\"},{\"date\":\"11/30/20\",\"hour\":\"11/30/20 13:00:00\",\"brand\":\"cook\",\"device\":\"androidtv\",\"zero_breaks\":\"0\",\"some_breaks\":\"8\"},{\"date\":\"11/30/20\",\"hour\":\"11/30/20 13:00:00\",\"brand\":\"cook\",\"device\":\"chromcast\",\"zero_breaks\":\"0\",\"some_breaks\":\"1\"},{\"date\":\"11/30/20\",\"hour\":\"11/30/20 13:00:00\",\"brand\":\"cook\",\"device\":\"desktop-web\",\"zero_breaks\":\"0\",\"some_breaks\":\"15\"},{\"date\":\"11/30/20\",\"hour\":\"11/30/20 13:00:00\",\"brand\":\"cook\",\"device\":\"firetv\",\"zero_breaks\":\"1\",\"some_breaks\":\"122\"},{\"date\":\"11/30/20\",\"hour\":\"11/30/20 13:00:00\",\"brand\":\"cook\",\"device\":\"ios\",\"zero_breaks\":\"2\",\"some_breaks\":\"25\"},{\"date\":\"11/30/20\",\"hour\":\"11/30/20 13:00:00\",\"brand\":\"cook\",\"device\":\"mobile-web\",\"zero_breaks\":\"0\",\"some_breaks\":\"7\"},{\"date\":\"11/30/20\",\"hour\":\"11/30/20 13:00:00\",\"brand\":\"cook\",\"device\":\"roku\",\"zero_breaks\":\"0\",\"some_breaks\":\"145\"},{\"date\":\"11/30/20\",\"hour\":\"11/30/20 13:00:00\",\"brand\":\"cook\",\"device\":\"samsung\",\"zero_breaks\":\"0\",\"some_breaks\":\"6\"},{\"date\":\"11/30/20\",\"hour\":\"11/30/20 13:00:00\",\"brand\":\"cook\",\"device\":\"tvos\",\"zero_breaks\":\"2\",\"some_breaks\":\"13\"},{\"date\":\"11/30/20\",\"hour\":\"11/30/20 13:00:00\",\"brand\":\"cook\",\"device\":\"xbox\",\"zero_breaks\":\"0\",\"some_breaks\":\"2\"},{\"date\":\"11/30/20\",\"hour\":\"11/30/20 13:00:00\",\"brand\":\"dam\",\"device\":\"android\",\"zero_breaks\":\"2\",\"some_breaks\":\"18\"},{\"date\":\"11/30/20\",\"hour\":\"11/30/20 13:00:00\",\"brand\":\"dam\",\"device\":\"chromcast\",\"zero_breaks\":\"0\",\"some_breaks\":\"6\"},{\"date\":\"11/30/20\",\"hour\":\"11/30/20 13:00:00\",\"brand\":\"dam\",\"device\":\"desktop-web\",\"zero_breaks\":\"0\",\"some_breaks\":\"4\"},{\"date\":\"11/30/20\",\"hour\":\"11/30/20 13:00:00\",\"brand\":\"dam\",\"device\":\"firetv\",\"zero_breaks\":\"1\",\"some_breaks\":\"40\"},{\"date\":\"11/30/20\",\"hour\":\"11/30/20 13:00:00\",\"brand\":\"dam\",\"device\":\"ios\",\"zero_breaks\":\"0\",\"some_breaks\":\"24\"},{\"date\":\"11/30/20\",\"hour\":\"11/30/20 13:00:00\",\"brand\":\"dam\",\"device\":\"mobile-web\",\"zero_breaks\":\"0\",\"some_breaks\":\"1\"},{\"date\":\"11/30/20\",\"hour\":\"11/30/20 13:00:00\",\"brand\":\"dam\",\"device\":\"roku\",\"zero_breaks\":\"3\",\"some_breaks\":\"31\"},{\"date\":\"11/30/20\",\"hour\":\"11/30/20 13:00:00\",\"brand\":\"dam\",\"device\":\"tvos\",\"zero_breaks\":\"1\",\"some_breaks\":\"3\"},{\"date\":\"11/30/20\",\"hour\":\"11/30/20 13:00:00\",\"brand\":\"dam\",\"device\":\"xbox\",\"zero_breaks\":\"1\",\"some_breaks\":\"1\"},{\"date\":\"11/30/20\",\"hour\":\"11/30/20 13:00:00\",\"brand\":\"des\",\"device\":\"android\",\"zero_breaks\":\"0\",\"some_breaks\":\"342\"},{\"date\":\"11/30/20\",\"hour\":\"11/30/20 13:00:00\",\"brand\":\"des\",\"device\":\"chromcast\",\"zero_breaks\":\"0\",\"some_breaks\":\"52\"},{\"date\":\"11/30/20\",\"hour\":\"11/30/20 13:00:00\",\"brand\":\"des\",\"device\":\"firetv\",\"zero_breaks\":\"2\",\"some_breaks\":\"57\"},{\"date\":\"11/30/20\",\"hour\":\"11/30/20 13:00:00\",\"brand\":\"des\",\"device\":\"ios\",\"zero_breaks\":\"0\",\"some_breaks\":\"422\"},{\"date\":\"11/30/20\",\"hour\":\"11/30/20 13:00:00\",\"brand\":\"des\",\"device\":\"roku\",\"zero_breaks\":\"0\",\"some_breaks\":\"460\"},{\"date\":\"11/30/20\",\"hour\":\"11/30/20 13:00:00\",\"brand\":\"dfc\",\"device\":\"android\",\"zero_breaks\":\"0\",\"some_breaks\":\"1\"},{\"date\":\"11/30/20\",\"hour\":\"11/30/20 13:00:00\",\"brand\":\"dfc\",\"device\":\"ios\",\"zero_breaks\":\"0\",\"some_breaks\":\"18\"},{\"date\":\"11/30/20\",\"hour\":\"11/30/20 13:00:00\",\"brand\":\"diy\",\"device\":\"android\",\"zero_breaks\":\"4\",\"some_breaks\":\"32\"},{\"date\":\"11/30/20\",\"hour\":\"11/30/20 13:00:00\",\"brand\":\"diy\",\"device\":\"androidtv\",\"zero_breaks\":\"0\",\"some_breaks\":\"17\"},{\"date\":\"11/30/20\",\"hour\":\"11/30/20 13:00:00\",\"brand\":\"diy\",\"device\":\"chromcast\",\"zero_breaks\":\"0\",\"some_breaks\":\"6\"},{\"date\":\"11/30/20\",\"hour\":\"11/30/20 13:00:00\",\"brand\":\"diy\",\"device\":\"desktop-web\",\"zero_breaks\":\"1\",\"some_breaks\":\"15\"},{\"date\":\"11/30/20\",\"hour\":\"11/30/20 13:00:00\",\"brand\":\"diy\",\"device\":\"firetv\",\"zero_breaks\":\"7\",\"some_breaks\":\"304\"},{\"date\":\"11/30/20\",\"hour\":\"11/30/20 13:00:00\",\"brand\":\"diy\",\"device\":\"ios\",\"zero_breaks\":\"1\",\"some_breaks\":\"38\"},{\"date\":\"11/30/20\",\"hour\":\"11/30/20 13:00:00\",\"brand\":\"diy\",\"device\":\"mobile-web\",\"zero_breaks\":\"0\",\"some_breaks\":\"6\"},{\"date\":\"11/30/20\",\"hour\":\"11/30/20 13:00:00\",\"brand\":\"diy\",\"device\":\"roku\",\"zero_breaks\":\"20\",\"some_breaks\":\"260\"},{\"date\":\"11/30/20\",\"hour\":\"11/30/20 13:00:00\",\"brand\":\"diy\",\"device\":\"samsung\",\"zero_breaks\":\"0\",\"some_breaks\":\"10\"},{\"date\":\"11/30/20\",\"hour\":\"11/30/20 13:00:00\",\"brand\":\"diy\",\"device\":\"tvos\",\"zero_breaks\":\"3\",\"some_breaks\":\"62\"},{\"date\":\"11/30/20\",\"hour\":\"11/30/20 13:00:00\",\"brand\":\"dlf\",\"device\":\"android\",\"zero_breaks\":\"0\",\"some_breaks\":\"3\"},{\"date\":\"11/30/20\",\"hour\":\"11/30/20 13:00:00\",\"brand\":\"dlf\",\"device\":\"desktop-web\",\"zero_breaks\":\"0\",\"some_breaks\":\"2\"},{\"date\":\"11/30/20\",\"hour\":\"11/30/20 13:00:00\",\"brand\":\"dlf\",\"device\":\"firetv\",\"zero_breaks\":\"0\",\"some_breaks\":\"19\"},{\"date\":\"11/30/20\",\"hour\":\"11/30/20 13:00:00\",\"brand\":\"dlf\",\"device\":\"ios\",\"zero_breaks\":\"0\",\"some_breaks\":\"6\"},{\"date\":\"11/30/20\",\"hour\":\"11/30/20 13:00:00\",\"brand\":\"dlf\",\"device\":\"mobile-web\",\"zero_breaks\":\"0\",\"some_breaks\":\"13\"},{\"date\":\"11/30/20\",\"hour\":\"11/30/20 13:00:00\",\"brand\":\"dlf\",\"device\":\"roku\",\"zero_breaks\":\"0\",\"some_breaks\":\"11\"},{\"date\":\"11/30/20\",\"hour\":\"11/30/20 13:00:00\",\"brand\":\"dsc\",\"device\":\"android\",\"zero_breaks\":\"55\",\"some_breaks\":\"532\"},{\"date\":\"11/30/20\",\"hour\":\"11/30/20 13:00:00\",\"brand\":\"dsc\",\"device\":\"chromcast\",\"zero_breaks\":\"11\",\"some_breaks\":\"77\"},{\"date\":\"11/30/20\",\"hour\":\"11/30/20 13:00:00\",\"brand\":\"dsc\",\"device\":\"desktop-web\",\"zero_breaks\":\"14\",\"some_breaks\":\"545\"},{\"date\":\"11/30/20\",\"hour\":\"11/30/20 13:00:00\",\"brand\":\"dsc\",\"device\":\"dsc\",\"zero_breaks\":\"0\",\"some_breaks\":\"62\"},{\"date\":\"11/30/20\",\"hour\":\"11/30/20 13:00:00\",\"brand\":\"dsc\",\"device\":\"firetv\",\"zero_breaks\":\"257\",\"some_breaks\":\"1520\"},{\"date\":\"11/30/20\",\"hour\":\"11/30/20 13:00:00\",\"brand\":\"dsc\",\"device\":\"ios\",\"zero_breaks\":\"60\",\"some_breaks\":\"693\"},{\"date\":\"11/30/20\",\"hour\":\"11/30/20 13:00:00\",\"brand\":\"dsc\",\"device\":\"mobile-web\",\"zero_breaks\":\"0\",\"some_breaks\":\"222\"},{\"date\":\"11/30/20\",\"hour\":\"11/30/20 13:00:00\",\"brand\":\"dsc\",\"device\":\"roku\",\"zero_breaks\":\"803\",\"some_breaks\":\"3918\"},{\"date\":\"11/30/20\",\"hour\":\"11/30/20 13:00:00\",\"brand\":\"dsc\",\"device\":\"samsung\",\"zero_breaks\":\"68\",\"some_breaks\":\"183\"},{\"date\":\"11/30/20\",\"hour\":\"11/30/20 13:00:00\",\"brand\":\"dsc\",\"device\":\"tvos\",\"zero_breaks\":\"116\",\"some_breaks\":\"385\"},{\"date\":\"11/30/20\",\"hour\":\"11/30/20 13:00:00\",\"brand\":\"dsc\",\"device\":\"xbox\",\"zero_breaks\":\"37\",\"some_breaks\":\"103\"},{\"date\":\"11/30/20\",\"hour\":\"11/30/20 13:00:00\",\"brand\":\"dsf\",\"device\":\"android\",\"zero_breaks\":\"0\",\"some_breaks\":\"12\"},{\"date\":\"11/30/20\",\"hour\":\"11/30/20 13:00:00\",\"brand\":\"dsf\",\"device\":\"chromcast\",\"zero_breaks\":\"0\",\"some_breaks\":\"3\"},{\"date\":\"11/30/20\",\"hour\":\"11/30/20 13:00:00\",\"brand\":\"dsf\",\"device\":\"firetv\",\"zero_breaks\":\"0\",\"some_breaks\":\"9\"},{\"date\":\"11/30/20\",\"hour\":\"11/30/20 13:00:00\",\"brand\":\"dsf\",\"device\":\"ios\",\"zero_breaks\":\"0\",\"some_breaks\":\"22\"},{\"date\":\"11/30/20\",\"hour\":\"11/30/20 13:00:00\",\"brand\":\"dsf\",\"device\":\"roku\",\"zero_breaks\":\"0\",\"some_breaks\":\"28\"},{\"date\":\"11/30/20\",\"hour\":\"11/30/20 13:00:00\",\"brand\":\"food\",\"device\":\"android\",\"zero_breaks\":\"26\",\"some_breaks\":\"576\"},{\"date\":\"11/30/20\",\"hour\":\"11/30/20 13:00:00\",\"brand\":\"food\",\"device\":\"androidtv\",\"zero_breaks\":\"1\",\"some_breaks\":\"78\"},{\"date\":\"11/30/20\",\"hour\":\"11/30/20 13:00:00\",\"brand\":\"food\",\"device\":\"chromcast\",\"zero_breaks\":\"5\",\"some_breaks\":\"139\"},{\"date\":\"11/30/20\",\"hour\":\"11/30/20 13:00:00\",\"brand\":\"food\",\"device\":\"desktop-web\",\"zero_breaks\":\"6\",\"some_breaks\":\"506\"},{\"date\":\"11/30/20\",\"hour\":\"11/30/20 13:00:00\",\"brand\":\"food\",\"device\":\"firetv\",\"zero_breaks\":\"210\",\"some_breaks\":\"2851\"},{\"date\":\"11/30/20\",\"hour\":\"11/30/20 13:00:00\",\"brand\":\"food\",\"device\":\"ios\",\"zero_breaks\":\"45\",\"some_breaks\":\"1229\"},{\"date\":\"11/30/20\",\"hour\":\"11/30/20 13:00:00\",\"brand\":\"food\",\"device\":\"mobile-web\",\"zero_breaks\":\"0\",\"some_breaks\":\"142\"},{\"date\":\"11/30/20\",\"hour\":\"11/30/20 13:00:00\",\"brand\":\"food\",\"device\":\"roku\",\"zero_breaks\":\"501\",\"some_breaks\":\"5568\"},{\"date\":\"11/30/20\",\"hour\":\"11/30/20 13:00:00\",\"brand\":\"food\",\"device\":\"samsung\",\"zero_breaks\":\"29\",\"some_breaks\":\"204\"},{\"date\":\"11/30/20\",\"hour\":\"11/30/20 13:00:00\",\"brand\":\"food\",\"device\":\"tvos\",\"zero_breaks\":\"118\",\"some_breaks\":\"842\"},{\"date\":\"11/30/20\",\"hour\":\"11/30/20 13:00:00\",\"brand\":\"food\",\"device\":\"xbox\",\"zero_breaks\":\"15\",\"some_breaks\":\"89\"},{\"date\":\"11/30/20\",\"hour\":\"11/30/20 13:00:00\",\"brand\":\"hgtv\",\"device\":\"android\",\"zero_breaks\":\"17\",\"some_breaks\":\"308\"},{\"date\":\"11/30/20\",\"hour\":\"11/30/20 13:00:00\",\"brand\":\"hgtv\",\"device\":\"androidtv\",\"zero_breaks\":\"10\",\"some_breaks\":\"129\"},{\"date\":\"11/30/20\",\"hour\":\"11/30/20 13:00:00\",\"brand\":\"hgtv\",\"device\":\"chromcast\",\"zero_breaks\":\"4\",\"some_breaks\":\"90\"},{\"date\":\"11/30/20\",\"hour\":\"11/30/20 13:00:00\",\"brand\":\"hgtv\",\"device\":\"desktop-web\",\"zero_breaks\":\"7\",\"some_breaks\":\"488\"},{\"date\":\"11/30/20\",\"hour\":\"11/30/20 13:00:00\",\"brand\":\"hgtv\",\"device\":\"firetv\",\"zero_breaks\":\"383\",\"some_breaks\":\"3838\"},{\"date\":\"11/30/20\",\"hour\":\"11/30/20 13:00:00\",\"brand\":\"hgtv\",\"device\":\"ios\",\"zero_breaks\":\"37\",\"some_breaks\":\"894\"},{\"date\":\"11/30/20\",\"hour\":\"11/30/20 13:00:00\",\"brand\":\"hgtv\",\"device\":\"mobile-web\",\"zero_breaks\":\"0\",\"some_breaks\":\"127\"},{\"date\":\"11/30/20\",\"hour\":\"11/30/20 13:00:00\",\"brand\":\"hgtv\",\"device\":\"roku\",\"zero_breaks\":\"1590\",\"some_breaks\":\"8782\"},{\"date\":\"11/30/20\",\"hour\":\"11/30/20 13:00:00\",\"brand\":\"hgtv\",\"device\":\"samsung\",\"zero_breaks\":\"121\",\"some_breaks\":\"508\"},{\"date\":\"11/30/20\",\"hour\":\"11/30/20 13:00:00\",\"brand\":\"hgtv\",\"device\":\"tvos\",\"zero_breaks\":\"202\",\"some_breaks\":\"1170\"},{\"date\":\"11/30/20\",\"hour\":\"11/30/20 13:00:00\",\"brand\":\"hgtv\",\"device\":\"xbox\",\"zero_breaks\":\"17\",\"some_breaks\":\"42\"},{\"date\":\"11/30/20\",\"hour\":\"11/30/20 13:00:00\",\"brand\":\"ids\",\"device\":\"android\",\"zero_breaks\":\"154\",\"some_breaks\":\"3107\"},{\"date\":\"11/30/20\",\"hour\":\"11/30/20 13:00:00\",\"brand\":\"ids\",\"device\":\"chromcast\",\"zero_breaks\":\"13\",\"some_breaks\":\"251\"},{\"date\":\"11/30/20\",\"hour\":\"11/30/20 13:00:00\",\"brand\":\"ids\",\"device\":\"desktop-web\",\"zero_breaks\":\"15\",\"some_breaks\":\"855\"},{\"date\":\"11/30/20\",\"hour\":\"11/30/20 13:00:00\",\"brand\":\"ids\",\"device\":\"firetv\",\"zero_breaks\":\"190\",\"some_breaks\":\"4589\"},{\"date\":\"11/30/20\",\"hour\":\"11/30/20 13:00:00\",\"brand\":\"ids\",\"device\":\"ids\",\"zero_breaks\":\"0\",\"some_breaks\":\"14\"},{\"date\":\"11/30/20\",\"hour\":\"11/30/20 13:00:00\",\"brand\":\"ids\",\"device\":\"ios\",\"zero_breaks\":\"159\",\"some_breaks\":\"3367\"},{\"date\":\"11/30/20\",\"hour\":\"11/30/20 13:00:00\",\"brand\":\"ids\",\"device\":\"mobile-web\",\"zero_breaks\":\"3\",\"some_breaks\":\"700\"},{\"date\":\"11/30/20\",\"hour\":\"11/30/20 13:00:00\",\"brand\":\"ids\",\"device\":\"roku\",\"zero_breaks\":\"416\",\"some_breaks\":\"6918\"},{\"date\":\"11/30/20\",\"hour\":\"11/30/20 13:00:00\",\"brand\":\"ids\",\"device\":\"tvos\",\"zero_breaks\":\"57\",\"some_breaks\":\"472\"},{\"date\":\"11/30/20\",\"hour\":\"11/30/20 13:00:00\",\"brand\":\"ids\",\"device\":\"xbox\",\"zero_breaks\":\"1\",\"some_breaks\":\"9\"},{\"date\":\"11/30/20\",\"hour\":\"11/30/20 13:00:00\",\"brand\":\"own\",\"device\":\"android\",\"zero_breaks\":\"48\",\"some_breaks\":\"403\"},{\"date\":\"11/30/20\",\"hour\":\"11/30/20 13:00:00\",\"brand\":\"own\",\"device\":\"chromcast\",\"zero_breaks\":\"7\",\"some_breaks\":\"43\"},{\"date\":\"11/30/20\",\"hour\":\"11/30/20 13:00:00\",\"brand\":\"own\",\"device\":\"firetv\",\"zero_breaks\":\"182\",\"some_breaks\":\"814\"},{\"date\":\"11/30/20\",\"hour\":\"11/30/20 13:00:00\",\"brand\":\"own\",\"device\":\"ios\",\"zero_breaks\":\"70\",\"some_breaks\":\"781\"},{\"date\":\"11/30/20\",\"hour\":\"11/30/20 13:00:00\",\"brand\":\"own\",\"device\":\"roku\",\"zero_breaks\":\"215\",\"some_breaks\":\"692\"},{\"date\":\"11/30/20\",\"hour\":\"11/30/20 13:00:00\",\"brand\":\"own\",\"device\":\"tvos\",\"zero_breaks\":\"39\",\"some_breaks\":\"85\"},{\"date\":\"11/30/20\",\"hour\":\"11/30/20 13:00:00\",\"brand\":\"sci\",\"device\":\"android\",\"zero_breaks\":\"5\",\"some_breaks\":\"80\"},{\"date\":\"11/30/20\",\"hour\":\"11/30/20 13:00:00\",\"brand\":\"sci\",\"device\":\"chromcast\",\"zero_breaks\":\"0\",\"some_breaks\":\"6\"},{\"date\":\"11/30/20\",\"hour\":\"11/30/20 13:00:00\",\"brand\":\"sci\",\"device\":\"desktop-web\",\"zero_breaks\":\"3\",\"some_breaks\":\"87\"},{\"date\":\"11/30/20\",\"hour\":\"11/30/20 13:00:00\",\"brand\":\"sci\",\"device\":\"firetv\",\"zero_breaks\":\"11\",\"some_breaks\":\"395\"},{\"date\":\"11/30/20\",\"hour\":\"11/30/20 13:00:00\",\"brand\":\"sci\",\"device\":\"ios\",\"zero_breaks\":\"6\",\"some_breaks\":\"77\"},{\"date\":\"11/30/20\",\"hour\":\"11/30/20 13:00:00\",\"brand\":\"sci\",\"device\":\"mobile-web\",\"zero_breaks\":\"0\",\"some_breaks\":\"14\"},{\"date\":\"11/30/20\",\"hour\":\"11/30/20 13:00:00\",\"brand\":\"sci\",\"device\":\"roku\",\"zero_breaks\":\"20\",\"some_breaks\":\"328\"},{\"date\":\"11/30/20\",\"hour\":\"11/30/20 13:00:00\",\"brand\":\"sci\",\"device\":\"samsung\",\"zero_breaks\":\"6\",\"some_breaks\":\"25\"},{\"date\":\"11/30/20\",\"hour\":\"11/30/20 13:00:00\",\"brand\":\"sci\",\"device\":\"tvos\",\"zero_breaks\":\"15\",\"some_breaks\":\"78\"},{\"date\":\"11/30/20\",\"hour\":\"11/30/20 13:00:00\",\"brand\":\"sci\",\"device\":\"xbox\",\"zero_breaks\":\"0\",\"some_breaks\":\"5\"},{\"date\":\"11/30/20\",\"hour\":\"11/30/20 13:00:00\",\"brand\":\"tlc\",\"device\":\"android\",\"zero_breaks\":\"222\",\"some_breaks\":\"2560\"},{\"date\":\"11/30/20\",\"hour\":\"11/30/20 13:00:00\",\"brand\":\"tlc\",\"device\":\"chromcast\",\"zero_breaks\":\"52\",\"some_breaks\":\"545\"},{\"date\":\"11/30/20\",\"hour\":\"11/30/20 13:00:00\",\"brand\":\"tlc\",\"device\":\"desktop-web\",\"zero_breaks\":\"57\",\"some_breaks\":\"2888\"},{\"date\":\"11/30/20\",\"hour\":\"11/30/20 13:00:00\",\"brand\":\"tlc\",\"device\":\"firetv\",\"zero_breaks\":\"573\",\"some_breaks\":\"6754\"},{\"date\":\"11/30/20\",\"hour\":\"11/30/20 13:00:00\",\"brand\":\"tlc\",\"device\":\"ios\",\"zero_breaks\":\"553\",\"some_breaks\":\"7981\"},{\"date\":\"11/30/20\",\"hour\":\"11/30/20 13:00:00\",\"brand\":\"tlc\",\"device\":\"mobile-web\",\"zero_breaks\":\"1\",\"some_breaks\":\"1033\"},{\"date\":\"11/30/20\",\"hour\":\"11/30/20 13:00:00\",\"brand\":\"tlc\",\"device\":\"roku\",\"zero_breaks\":\"1083\",\"some_breaks\":\"7994\"},{\"date\":\"11/30/20\",\"hour\":\"11/30/20 13:00:00\",\"brand\":\"tlc\",\"device\":\"samsung\",\"zero_breaks\":\"253\",\"some_breaks\":\"756\"},{\"date\":\"11/30/20\",\"hour\":\"11/30/20 13:00:00\",\"brand\":\"tlc\",\"device\":\"tlc\",\"zero_breaks\":\"0\",\"some_breaks\":\"4\"},{\"date\":\"11/30/20\",\"hour\":\"11/30/20 13:00:00\",\"brand\":\"tlc\",\"device\":\"tvos\",\"zero_breaks\":\"303\",\"some_breaks\":\"1651\"},{\"date\":\"11/30/20\",\"hour\":\"11/30/20 13:00:00\",\"brand\":\"tlc\",\"device\":\"xbox\",\"zero_breaks\":\"71\",\"some_breaks\":\"280\"},{\"date\":\"11/30/20\",\"hour\":\"11/30/20 13:00:00\",\"brand\":\"trav\",\"device\":\"android\",\"zero_breaks\":\"27\",\"some_breaks\":\"680\"},{\"date\":\"11/30/20\",\"hour\":\"11/30/20 13:00:00\",\"brand\":\"trav\",\"device\":\"androidtv\",\"zero_breaks\":\"0\",\"some_breaks\":\"61\"},{\"date\":\"11/30/20\",\"hour\":\"11/30/20 13:00:00\",\"brand\":\"trav\",\"device\":\"chromcast\",\"zero_breaks\":\"1\",\"some_breaks\":\"80\"},{\"date\":\"11/30/20\",\"hour\":\"11/30/20 13:00:00\",\"brand\":\"trav\",\"device\":\"desktop-web\",\"zero_breaks\":\"5\",\"some_breaks\":\"203\"},{\"date\":\"11/30/20\",\"hour\":\"11/30/20 13:00:00\",\"brand\":\"trav\",\"device\":\"firetv\",\"zero_breaks\":\"57\",\"some_breaks\":\"1302\"},{\"date\":\"11/30/20\",\"hour\":\"11/30/20 13:00:00\",\"brand\":\"trav\",\"device\":\"ios\",\"zero_breaks\":\"27\",\"some_breaks\":\"582\"},{\"date\":\"11/30/20\",\"hour\":\"11/30/20 13:00:00\",\"brand\":\"trav\",\"device\":\"mobile-web\",\"zero_breaks\":\"0\",\"some_breaks\":\"61\"},{\"date\":\"11/30/20\",\"hour\":\"11/30/20 13:00:00\",\"brand\":\"trav\",\"device\":\"roku\",\"zero_breaks\":\"214\",\"some_breaks\":\"2027\"},{\"date\":\"11/30/20\",\"hour\":\"11/30/20 13:00:00\",\"brand\":\"trav\",\"device\":\"samsung\",\"zero_breaks\":\"16\",\"some_breaks\":\"113\"},{\"date\":\"11/30/20\",\"hour\":\"11/30/20 13:00:00\",\"brand\":\"trav\",\"device\":\"tvos\",\"zero_breaks\":\"31\",\"some_breaks\":\"188\"},{\"date\":\"11/30/20\",\"hour\":\"11/30/20 13:00:00\",\"brand\":\"trav\",\"device\":\"xbox\",\"zero_breaks\":\"20\",\"some_breaks\":\"98\"},{\"date\":\"11/30/20\",\"hour\":\"11/30/20 13:00:00\",\"brand\":\"vel\",\"device\":\"android\",\"zero_breaks\":\"1\",\"some_breaks\":\"4\"},{\"date\":\"11/30/20\",\"hour\":\"11/30/20 13:00:00\",\"brand\":\"vel\",\"device\":\"chromcast\",\"zero_breaks\":\"0\",\"some_breaks\":\"4\"},{\"date\":\"11/30/20\",\"hour\":\"11/30/20 13:00:00\",\"brand\":\"vel\",\"device\":\"desktop-web\",\"zero_breaks\":\"0\",\"some_breaks\":\"7\"},{\"date\":\"11/30/20\",\"hour\":\"11/30/20 13:00:00\",\"brand\":\"vel\",\"device\":\"firetv\",\"zero_breaks\":\"2\",\"some_breaks\":\"19\"},{\"date\":\"11/30/20\",\"hour\":\"11/30/20 13:00:00\",\"brand\":\"vel\",\"device\":\"ios\",\"zero_breaks\":\"0\",\"some_breaks\":\"21\"},{\"date\":\"11/30/20\",\"hour\":\"11/30/20 13:00:00\",\"brand\":\"vel\",\"device\":\"mobile-web\",\"zero_breaks\":\"0\",\"some_breaks\":\"5\"},{\"date\":\"11/30/20\",\"hour\":\"11/30/20 13:00:00\",\"brand\":\"vel\",\"device\":\"roku\",\"zero_breaks\":\"2\",\"some_breaks\":\"25\"},{\"date\":\"11/30/20\",\"hour\":\"11/30/20 13:00:00\",\"brand\":\"vel\",\"device\":\"tvos\",\"zero_breaks\":\"1\",\"some_breaks\":\"7\"}], \"highlighted\":{}}'"
      ]
     },
     "execution_count": 93,
     "metadata": {},
     "output_type": "execute_result"
    }
   ],
   "source": [
    "r.text"
   ]
  },
  {
   "cell_type": "code",
   "execution_count": null,
   "metadata": {},
   "outputs": [],
   "source": []
  }
 ],
 "metadata": {
  "kernelspec": {
   "display_name": "Python 3",
   "language": "python",
   "name": "python3"
  },
  "language_info": {
   "codemirror_mode": {
    "name": "ipython",
    "version": 3
   },
   "file_extension": ".py",
   "mimetype": "text/x-python",
   "name": "python",
   "nbconvert_exporter": "python",
   "pygments_lexer": "ipython3",
   "version": "3.7.3"
  }
 },
 "nbformat": 4,
 "nbformat_minor": 2
}
