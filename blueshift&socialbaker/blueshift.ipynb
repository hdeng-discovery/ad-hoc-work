{
 "cells": [
  {
   "cell_type": "code",
   "execution_count": 3,
   "metadata": {
    "ExecuteTime": {
     "end_time": "2020-12-02T17:01:54.929554Z",
     "start_time": "2020-12-02T17:01:50.329262Z"
    }
   },
   "outputs": [],
   "source": [
    "import boto3\n",
    "import pandas as pd\n",
    "from matplotlib import pyplot as plt\n",
    "from datetime import datetime,date,timedelta\n",
    "import json\n",
    "from sqlalchemy import create_engine"
   ]
  },
  {
   "cell_type": "code",
   "execution_count": 2,
   "metadata": {
    "ExecuteTime": {
     "end_time": "2020-11-24T15:17:04.217944Z",
     "start_time": "2020-11-24T15:17:04.033553Z"
    }
   },
   "outputs": [],
   "source": [
    "s3 = boto3.client('s3')"
   ]
  },
  {
   "cell_type": "code",
   "execution_count": 3,
   "metadata": {
    "ExecuteTime": {
     "end_time": "2020-10-28T19:04:53.803014Z",
     "start_time": "2020-10-28T19:04:53.796105Z"
    }
   },
   "outputs": [],
   "source": [
    "bucket='bsft-customers'\n",
    "prefix_1='discoveryplus.com/events/{}/{}/{}/'.format(date.today().year,date.today().month,date.today().day)\n",
    "prefix_2='discoveryplus.com/events/{}/{}/{}/'.format(date.today().year,date.today().month,date.today().day+1)\n",
    "df= pd.DataFrame()"
   ]
  },
  {
   "cell_type": "code",
   "execution_count": 6,
   "metadata": {
    "ExecuteTime": {
     "end_time": "2020-10-28T19:07:44.354847Z",
     "start_time": "2020-10-28T19:07:18.125914Z"
    }
   },
   "outputs": [
    {
     "name": "stdout",
     "output_type": "stream",
     "text": [
      "discoveryplus.com/events/2020/10/28/bsft-events-discoveryplus.com-20201028170920-33.json.gz\n"
     ]
    }
   ],
   "source": [
    "paginator = s3.get_paginator('list_objects')\n",
    "if (datetime.today().hour+4)<=24:\n",
    "    for result in paginator.paginate(Bucket = bucket, Prefix=prefix_1):\n",
    "        for file in result.get('Contents', []):\n",
    "            if (int(file.get('Key').split('.')[-3].split('-')[-2][-6:]) >= 170000) & \\\n",
    "                (int(file.get('Key').split('.')[-3].split('-')[-2][-6:]) < 172000):\n",
    "                df_to_add=pd.read_json('s3://'+bucket+'/'+file.get('Key'),compression='gzip',lines = True)\n",
    "                df = pd.concat([df,df_to_add[df_to_add.event=='announcement - email submission']],\\\n",
    "                               sort=False,ignore_index=True)\n",
    "                if df_to_add[df_to_add.event=='announcement - email submission'].shape[0]!=0:\n",
    "                    print(file.get('Key'))\n",
    "else:\n",
    "    for result in paginator.paginate(Bucket = bucket, Prefix=prefix_2):\n",
    "        for file in result.get('Contents', []):\n",
    "            if (int(file.get('Key').split('.')[-3].split('-')[-2][-6:]) >= (datetime.today().hour-21)*10000) & \\\n",
    "                (int(file.get('Key').split('.')[-3].split('-')[-2][-6:]) < (datetime.today().hour-20)*10000):\n",
    "                df_to_add=pd.read_json('s3://'+bucket+'/'+file.get('Key'),compression='gzip',lines = True)\n",
    "                df = pd.concat([df,df_to_add[df_to_add.event=='announcement - email submission']],\\\n",
    "                               sort=False,ignore_index=True)"
   ]
  },
  {
   "cell_type": "code",
   "execution_count": 5,
   "metadata": {
    "ExecuteTime": {
     "end_time": "2020-10-28T19:05:52.656846Z",
     "start_time": "2020-10-28T19:05:52.612608Z"
    }
   },
   "outputs": [
    {
     "data": {
      "text/html": [
       "<div>\n",
       "<style scoped>\n",
       "    .dataframe tbody tr th:only-of-type {\n",
       "        vertical-align: middle;\n",
       "    }\n",
       "\n",
       "    .dataframe tbody tr th {\n",
       "        vertical-align: top;\n",
       "    }\n",
       "\n",
       "    .dataframe thead th {\n",
       "        text-align: right;\n",
       "    }\n",
       "</style>\n",
       "<table border=\"1\" class=\"dataframe\">\n",
       "  <thead>\n",
       "    <tr style=\"text-align: right;\">\n",
       "      <th></th>\n",
       "      <th>_bsft_ts</th>\n",
       "      <th>account_uuid</th>\n",
       "      <th>app_name</th>\n",
       "      <th>app_version</th>\n",
       "      <th>browser_platform</th>\n",
       "      <th>browser_type</th>\n",
       "      <th>browser_version</th>\n",
       "      <th>bsft_sdk_version</th>\n",
       "      <th>device_id</th>\n",
       "      <th>device_manufacturer</th>\n",
       "      <th>...</th>\n",
       "      <th>Product Update Notification Opt In</th>\n",
       "      <th>_bsft_flatten_hashes</th>\n",
       "      <th>_bsft_source</th>\n",
       "      <th>custom_event_type</th>\n",
       "      <th>email</th>\n",
       "      <th>event_type</th>\n",
       "      <th>mParticle Source Feed</th>\n",
       "      <th>name</th>\n",
       "      <th>timestamp_ms</th>\n",
       "      <th>unsubscribed</th>\n",
       "    </tr>\n",
       "  </thead>\n",
       "  <tbody>\n",
       "    <tr>\n",
       "      <th>0</th>\n",
       "      <td>NaN</td>\n",
       "      <td>906a7870-47f5-4e2a-8560-e8e4518e898c</td>\n",
       "      <td>NaN</td>\n",
       "      <td>NaN</td>\n",
       "      <td>NaN</td>\n",
       "      <td>NaN</td>\n",
       "      <td>NaN</td>\n",
       "      <td>NaN</td>\n",
       "      <td>NaN</td>\n",
       "      <td>NaN</td>\n",
       "      <td>...</td>\n",
       "      <td>True</td>\n",
       "      <td>0.0</td>\n",
       "      <td>mparticle</td>\n",
       "      <td>unknown</td>\n",
       "      <td>hd@test.com</td>\n",
       "      <td>custom_event</td>\n",
       "      <td>Announcement Page Email Capture</td>\n",
       "      <td>announcement - email submission</td>\n",
       "      <td>2020-10-28 17:04:23.924</td>\n",
       "      <td>0.0</td>\n",
       "    </tr>\n",
       "  </tbody>\n",
       "</table>\n",
       "<p>1 rows × 37 columns</p>\n",
       "</div>"
      ],
      "text/plain": [
       "  _bsft_ts                          account_uuid app_name app_version  \\\n",
       "0      NaN  906a7870-47f5-4e2a-8560-e8e4518e898c      NaN         NaN   \n",
       "\n",
       "   browser_platform browser_type browser_version bsft_sdk_version device_id  \\\n",
       "0               NaN          NaN             NaN              NaN       NaN   \n",
       "\n",
       "  device_manufacturer  ... Product Update Notification Opt In  \\\n",
       "0                 NaN  ...                               True   \n",
       "\n",
       "  _bsft_flatten_hashes  _bsft_source custom_event_type        email  \\\n",
       "0                  0.0     mparticle           unknown  hd@test.com   \n",
       "\n",
       "     event_type            mParticle Source Feed  \\\n",
       "0  custom_event  Announcement Page Email Capture   \n",
       "\n",
       "                              name            timestamp_ms unsubscribed  \n",
       "0  announcement - email submission 2020-10-28 17:04:23.924          0.0  \n",
       "\n",
       "[1 rows x 37 columns]"
      ]
     },
     "execution_count": 5,
     "metadata": {},
     "output_type": "execute_result"
    }
   ],
   "source": [
    "df"
   ]
  },
  {
   "cell_type": "code",
   "execution_count": 134,
   "metadata": {
    "ExecuteTime": {
     "end_time": "2020-10-20T21:10:24.586529Z",
     "start_time": "2020-10-20T21:09:40.881856Z"
    }
   },
   "outputs": [],
   "source": [
    "paginator = s3.get_paginator('list_objects')\n",
    "if (datetime.today().hour+4)<=24:\n",
    "    for result in paginator.paginate(Bucket = bucket, Prefix=prefix_1):\n",
    "        for file in result.get('Contents', []):\n",
    "            if (int(file.get('Key').split('.')[-3].split('-')[-2][-6:]) >= (datetime.today().hour+3)*10000) & \\\n",
    "                (int(file.get('Key').split('.')[-3].split('-')[-2][-6:]) < (datetime.today().hour+4)*10000):\n",
    "                df_to_add=pd.read_json('s3://'+bucket+'/'+file.get('Key'),compression='gzip',lines = True)\n",
    "                df = pd.concat([df,df_to_add[df_to_add.event=='announcement - email submission']],\\\n",
    "                               sort=False,ignore_index=True)\n",
    "else:\n",
    "    for result in paginator.paginate(Bucket = bucket, Prefix=prefix_2):\n",
    "        for file in result.get('Contents', []):\n",
    "            if (int(file.get('Key').split('.')[-3].split('-')[-2][-6:]) >= (datetime.today().hour-21)*10000) & \\\n",
    "                (int(file.get('Key').split('.')[-3].split('-')[-2][-6:]) < (datetime.today().hour-20)*10000):\n",
    "                df_to_add=pd.read_json('s3://'+bucket+'/'+file.get('Key'),compression='gzip',lines = True)\n",
    "                df = pd.concat([df,df_to_add[df_to_add.event=='announcement - email submission']],\\\n",
    "                               sort=False,ignore_index=True)"
   ]
  },
  {
   "cell_type": "code",
   "execution_count": 135,
   "metadata": {
    "ExecuteTime": {
     "end_time": "2020-10-20T21:10:24.601221Z",
     "start_time": "2020-10-20T21:10:24.589151Z"
    }
   },
   "outputs": [
    {
     "data": {
      "text/plain": [
       "Index(['_bsft_ts', 'account_uuid', 'app_name', 'app_version',\n",
       "       'browser_platform', 'browser_type', 'browser_version',\n",
       "       'bsft_sdk_version', 'device_id', 'device_manufacturer', 'device_token',\n",
       "       'device_type', 'enable_inapp', 'event', 'event_uuid',\n",
       "       'limit_ad_tracking', 'network_carrier', 'os_name', 'session_uuid',\n",
       "       'site', 'timestamp', 'timestamp_epoch', 'user_agent', 'user_uuid',\n",
       "       'build_number', 'bundle_identifier', 'device_idfv',\n",
       "       'Product Update Notification Opt In', '_bsft_flatten_hashes',\n",
       "       '_bsft_source', 'custom_event_type', 'email', 'event_type',\n",
       "       'mParticle Source Feed', 'name', 'timestamp_ms', 'unsubscribed'],\n",
       "      dtype='object')"
      ]
     },
     "execution_count": 135,
     "metadata": {},
     "output_type": "execute_result"
    }
   ],
   "source": [
    "df.columns"
   ]
  },
  {
   "cell_type": "code",
   "execution_count": 144,
   "metadata": {
    "ExecuteTime": {
     "end_time": "2020-10-20T21:33:29.164133Z",
     "start_time": "2020-10-20T21:33:29.147937Z"
    }
   },
   "outputs": [
    {
     "data": {
      "text/html": [
       "<div>\n",
       "<style scoped>\n",
       "    .dataframe tbody tr th:only-of-type {\n",
       "        vertical-align: middle;\n",
       "    }\n",
       "\n",
       "    .dataframe tbody tr th {\n",
       "        vertical-align: top;\n",
       "    }\n",
       "\n",
       "    .dataframe thead th {\n",
       "        text-align: right;\n",
       "    }\n",
       "</style>\n",
       "<table border=\"1\" class=\"dataframe\">\n",
       "  <thead>\n",
       "    <tr style=\"text-align: right;\">\n",
       "      <th></th>\n",
       "      <th>email</th>\n",
       "      <th>timestamp</th>\n",
       "    </tr>\n",
       "  </thead>\n",
       "  <tbody>\n",
       "    <tr>\n",
       "      <th>0</th>\n",
       "      <td>Sam_Dunn@discovery.com</td>\n",
       "      <td>2020-10-20 10:30:19</td>\n",
       "    </tr>\n",
       "    <tr>\n",
       "      <th>1</th>\n",
       "      <td>han_deng@discovery.com</td>\n",
       "      <td>2020-10-20 20:57:37</td>\n",
       "    </tr>\n",
       "  </tbody>\n",
       "</table>\n",
       "</div>"
      ],
      "text/plain": [
       "                    email           timestamp\n",
       "0  Sam_Dunn@discovery.com 2020-10-20 10:30:19\n",
       "1  han_deng@discovery.com 2020-10-20 20:57:37"
      ]
     },
     "execution_count": 144,
     "metadata": {},
     "output_type": "execute_result"
    }
   ],
   "source": [
    "df.groupby(['email']).timestamp.min().to_frame().reset_index()"
   ]
  },
  {
   "cell_type": "code",
   "execution_count": 3,
   "metadata": {
    "ExecuteTime": {
     "end_time": "2020-11-24T15:17:08.719442Z",
     "start_time": "2020-11-24T15:17:08.152428Z"
    }
   },
   "outputs": [],
   "source": [
    "\n",
    "creds = json.load(open('//Users/hdeng/Downloads/credentials.json'))\n",
    "redshift_cred = creds['rs_cred']\n",
    "engine_url = \"postgresql://{0}:{1}@{2}:{3}/{4}\".format(redshift_cred['user'],\n",
    "                                                        redshift_cred['pwd'],\n",
    "                                                        redshift_cred['host'],\n",
    "                                                        redshift_cred['port'],\n",
    "                                                        redshift_cred['dbase'])\n",
    "conn = create_engine(engine_url).connect()"
   ]
  },
  {
   "cell_type": "code",
   "execution_count": 149,
   "metadata": {
    "ExecuteTime": {
     "end_time": "2020-10-20T21:41:55.015348Z",
     "start_time": "2020-10-20T21:41:54.168955Z"
    }
   },
   "outputs": [
    {
     "data": {
      "text/html": [
       "<div>\n",
       "<style scoped>\n",
       "    .dataframe tbody tr th:only-of-type {\n",
       "        vertical-align: middle;\n",
       "    }\n",
       "\n",
       "    .dataframe tbody tr th {\n",
       "        vertical-align: top;\n",
       "    }\n",
       "\n",
       "    .dataframe thead th {\n",
       "        text-align: right;\n",
       "    }\n",
       "</style>\n",
       "<table border=\"1\" class=\"dataframe\">\n",
       "  <thead>\n",
       "    <tr style=\"text-align: right;\">\n",
       "      <th></th>\n",
       "      <th>email</th>\n",
       "    </tr>\n",
       "  </thead>\n",
       "  <tbody>\n",
       "    <tr>\n",
       "      <th>0</th>\n",
       "      <td>cassandra_lim@discovery.com</td>\n",
       "    </tr>\n",
       "    <tr>\n",
       "      <th>1</th>\n",
       "      <td>pixeltest@mtodemail.com</td>\n",
       "    </tr>\n",
       "    <tr>\n",
       "      <th>2</th>\n",
       "      <td>courtney_wright@discovery.com</td>\n",
       "    </tr>\n",
       "    <tr>\n",
       "      <th>3</th>\n",
       "      <td>molly_hoffmaster@discovery.com</td>\n",
       "    </tr>\n",
       "    <tr>\n",
       "      <th>4</th>\n",
       "      <td>violet_ding@discovery.com</td>\n",
       "    </tr>\n",
       "  </tbody>\n",
       "</table>\n",
       "</div>"
      ],
      "text/plain": [
       "                            email\n",
       "0     cassandra_lim@discovery.com\n",
       "1         pixeltest@mtodemail.com\n",
       "2   courtney_wright@discovery.com\n",
       "3  molly_hoffmaster@discovery.com\n",
       "4       violet_ding@discovery.com"
      ]
     },
     "execution_count": 149,
     "metadata": {},
     "output_type": "execute_result"
    }
   ],
   "source": [
    "red=pd.read_sql('select distinct email from digital_analytics_dev.blueshift_ap_signup_raw',conn)"
   ]
  },
  {
   "cell_type": "code",
   "execution_count": 158,
   "metadata": {
    "ExecuteTime": {
     "end_time": "2020-10-20T21:47:24.323503Z",
     "start_time": "2020-10-20T21:47:24.262793Z"
    }
   },
   "outputs": [],
   "source": [
    "df=df[~df.email.isin(red.email.tolist())][['email','timestamp']]\n",
    "df['unknown']=''\n",
    "df['first_name']=''"
   ]
  },
  {
   "cell_type": "code",
   "execution_count": null,
   "metadata": {},
   "outputs": [],
   "source": [
    "# df_pivot=pd.pivot_table(df_fans,index=['id','platform'], columns='metric',values='data',aggfunc=np.sum)\n",
    "df[['unknown','email','first_name','timestamp']].to_sql('blueshift_ap_signup_raw', conn, index = False ,if_exists = 'append', \\\n",
    "          schema = 'digital_analytics_dev', chunksize = 1000)\n",
    "conn.close()"
   ]
  },
  {
   "cell_type": "code",
   "execution_count": 5,
   "metadata": {
    "ExecuteTime": {
     "end_time": "2020-11-24T15:17:39.578987Z",
     "start_time": "2020-11-24T15:17:39.363222Z"
    }
   },
   "outputs": [],
   "source": [
    "import psycopg2\n",
    "conn2=psycopg2.connect(dbname=redshift_cred['dbase'],\n",
    "                        host=redshift_cred['host'],\n",
    "                        port=redshift_cred['port'],\n",
    "                        user=redshift_cred['user'],\n",
    "                        password=redshift_cred['pwd'])\n",
    "cur=conn2.cursor()\n",
    "conn2.autocommit=True"
   ]
  },
  {
   "cell_type": "code",
   "execution_count": 9,
   "metadata": {
    "ExecuteTime": {
     "end_time": "2020-11-24T15:18:42.708998Z",
     "start_time": "2020-11-24T15:18:37.176682Z"
    }
   },
   "outputs": [],
   "source": [
    "cur.execute('create table #t as select * from digital_analytics.blueshift_ap_signup_hourly limit 1;')"
   ]
  },
  {
   "cell_type": "code",
   "execution_count": 19,
   "metadata": {
    "ExecuteTime": {
     "end_time": "2020-11-24T15:27:47.135328Z",
     "start_time": "2020-11-24T15:27:47.130753Z"
    }
   },
   "outputs": [
    {
     "name": "stdout",
     "output_type": "stream",
     "text": [
      "Y-m-d H:i:s\n"
     ]
    }
   ],
   "source": [
    "print(datetime.now(timezone('EST')).strftime('Y-m-d H:i:s'))"
   ]
  },
  {
   "cell_type": "code",
   "execution_count": 21,
   "metadata": {
    "ExecuteTime": {
     "end_time": "2020-11-24T15:30:12.178726Z",
     "start_time": "2020-11-24T15:30:12.174116Z"
    }
   },
   "outputs": [],
   "source": [
    "dd=datetime.now(timezone('EST'))"
   ]
  },
  {
   "cell_type": "code",
   "execution_count": 28,
   "metadata": {
    "ExecuteTime": {
     "end_time": "2020-11-24T15:53:00.653132Z",
     "start_time": "2020-11-24T15:53:00.368723Z"
    }
   },
   "outputs": [
    {
     "name": "stdout",
     "output_type": "stream",
     "text": [
      "insert into #t\n",
      "        select \n",
      "            to_timestamp('2020-11-24 10:30:12.175368-05:00', 'yyyy-mm-dd hh24:mi:ss'),\n",
      "            0\n"
     ]
    }
   ],
   "source": [
    "from pytz import timezone\n",
    "query='''insert into #t\n",
    "        select \n",
    "            to_timestamp('{0}', 'yyyy-mm-dd hh24:mi:ss'),\n",
    "            0'''.format(dd)\n",
    "print(query)\n",
    "cur.execute(query)"
   ]
  },
  {
   "cell_type": "code",
   "execution_count": 29,
   "metadata": {
    "ExecuteTime": {
     "end_time": "2020-11-24T15:53:01.549031Z",
     "start_time": "2020-11-24T15:53:01.480568Z"
    }
   },
   "outputs": [],
   "source": [
    "cur.execute('select * from #t;')"
   ]
  },
  {
   "cell_type": "code",
   "execution_count": 30,
   "metadata": {
    "ExecuteTime": {
     "end_time": "2020-11-24T15:53:01.869257Z",
     "start_time": "2020-11-24T15:53:01.858871Z"
    }
   },
   "outputs": [
    {
     "data": {
      "text/plain": [
       "[(datetime.datetime(2020, 11, 24, 10, 21, 28, 852543), 0),\n",
       " (datetime.datetime(2020, 11, 24, 10, 30, 12, 175368), 0),\n",
       " (datetime.datetime(2020, 11, 24, 10, 30, 12), 0),\n",
       " (datetime.datetime(2020, 11, 24, 10, 30, 12), 0)]"
      ]
     },
     "execution_count": 30,
     "metadata": {},
     "output_type": "execute_result"
    }
   ],
   "source": [
    "cur.fetchall()"
   ]
  },
  {
   "cell_type": "code",
   "execution_count": null,
   "metadata": {},
   "outputs": [],
   "source": [
    "cur.execute('''\n",
    "            insert into digital_analytics.blueshift_ap_signup_hourly\n",
    "            select distinct\n",
    "                now() as timestamp,\n",
    "                count(distinct email) email_countt\n",
    "            from digital_analytics_dev.blueshift_ap_signup_raw\n",
    "            where email not like '%@discovery.com%' and \n",
    "            email not like '%@motortrend.com%' and\n",
    "            date(DATEADD('hour',-4,cast(joined_date as timestamp)))=current_date\n",
    "            group by 1\n",
    "            ''')"
   ]
  },
  {
   "cell_type": "code",
   "execution_count": null,
   "metadata": {},
   "outputs": [],
   "source": [
    "cur.close()\n",
    "conn2.close()"
   ]
  },
  {
   "cell_type": "code",
   "execution_count": 1,
   "metadata": {
    "ExecuteTime": {
     "end_time": "2020-12-02T17:01:23.598176Z",
     "start_time": "2020-12-02T17:01:23.592995Z"
    }
   },
   "outputs": [],
   "source": [
    "a='''{\"site\":\"discoveryplus.com\",\"account_uuid\":\"906a7870-47f5-4e2a-8560-e8e4518e898c\",\"timestamp\":\"2020-12-02T14:10:02Z\",\"email\":\"kyla.cjones@gmail.com\",\"announcement_emailsubmission\":\"true\",\"unsubscribed\":false,\"_bsft_source_event_uuid\":\"b8637fa9-d948-4403-8839-803209e4943a\",\"_bsft_source_event\":\"announcement - email submission\",\"event_uuid\":\"13b26790-34a8-11eb-a6e3-0242ac11001d\",\"event\":\"identify\",\"user_uuid\":\"f8f2372e-d5a1-40e5-931f-2572550728ef\",\"session_uuid\":\"3020c2b3-8c74-4370-ba71-60ff66ffa5a6\"}'''"
   ]
  },
  {
   "cell_type": "code",
   "execution_count": 5,
   "metadata": {
    "ExecuteTime": {
     "end_time": "2020-12-02T17:02:04.972957Z",
     "start_time": "2020-12-02T17:02:04.956708Z"
    }
   },
   "outputs": [],
   "source": [
    "df=pd.read_json(a,lines = True)"
   ]
  },
  {
   "cell_type": "code",
   "execution_count": 6,
   "metadata": {
    "ExecuteTime": {
     "end_time": "2020-12-02T17:02:06.601292Z",
     "start_time": "2020-12-02T17:02:06.586607Z"
    }
   },
   "outputs": [
    {
     "data": {
      "text/plain": [
       "<bound method NDFrame.head of                 _bsft_source_event               _bsft_source_event_uuid  \\\n",
       "0  announcement - email submission  b8637fa9-d948-4403-8839-803209e4943a   \n",
       "\n",
       "                           account_uuid announcement_emailsubmission  \\\n",
       "0  906a7870-47f5-4e2a-8560-e8e4518e898c                         true   \n",
       "\n",
       "                   email     event                            event_uuid  \\\n",
       "0  kyla.cjones@gmail.com  identify  13b26790-34a8-11eb-a6e3-0242ac11001d   \n",
       "\n",
       "                           session_uuid               site  \\\n",
       "0  3020c2b3-8c74-4370-ba71-60ff66ffa5a6  discoveryplus.com   \n",
       "\n",
       "            timestamp  unsubscribed                             user_uuid  \n",
       "0 2020-12-02 14:10:02         False  f8f2372e-d5a1-40e5-931f-2572550728ef  >"
      ]
     },
     "execution_count": 6,
     "metadata": {},
     "output_type": "execute_result"
    }
   ],
   "source": [
    "df.head"
   ]
  },
  {
   "cell_type": "code",
   "execution_count": null,
   "metadata": {},
   "outputs": [],
   "source": []
  }
 ],
 "metadata": {
  "kernelspec": {
   "display_name": "Python 3",
   "language": "python",
   "name": "python3"
  },
  "language_info": {
   "codemirror_mode": {
    "name": "ipython",
    "version": 3
   },
   "file_extension": ".py",
   "mimetype": "text/x-python",
   "name": "python",
   "nbconvert_exporter": "python",
   "pygments_lexer": "ipython3",
   "version": "3.7.3"
  }
 },
 "nbformat": 4,
 "nbformat_minor": 2
}
