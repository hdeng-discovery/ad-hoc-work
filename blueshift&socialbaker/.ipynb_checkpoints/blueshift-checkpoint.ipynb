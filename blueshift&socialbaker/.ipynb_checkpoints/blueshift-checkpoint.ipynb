{
 "cells": [
  {
   "cell_type": "code",
   "execution_count": 2,
   "metadata": {
    "ExecuteTime": {
     "end_time": "2020-11-13T22:49:27.130371Z",
     "start_time": "2020-11-13T22:49:19.299121Z"
    }
   },
   "outputs": [],
   "source": [
    "import boto3\n",
    "import pandas as pd\n",
    "from matplotlib import pyplot as plt\n",
    "from datetime import datetime,date,timedelta\n",
    "import json\n",
    "from sqlalchemy import create_engine"
   ]
  },
  {
   "cell_type": "code",
   "execution_count": 2,
   "metadata": {
    "ExecuteTime": {
     "end_time": "2020-10-28T19:04:53.099493Z",
     "start_time": "2020-10-28T19:04:52.884671Z"
    }
   },
   "outputs": [],
   "source": [
    "s3 = boto3.client('s3')"
   ]
  },
  {
   "cell_type": "code",
   "execution_count": 3,
   "metadata": {
    "ExecuteTime": {
     "end_time": "2020-10-28T19:04:53.803014Z",
     "start_time": "2020-10-28T19:04:53.796105Z"
    }
   },
   "outputs": [],
   "source": [
    "bucket='bsft-customers'\n",
    "prefix_1='discoveryplus.com/events/{}/{}/{}/'.format(date.today().year,date.today().month,date.today().day)\n",
    "prefix_2='discoveryplus.com/events/{}/{}/{}/'.format(date.today().year,date.today().month,date.today().day+1)\n",
    "df= pd.DataFrame()"
   ]
  },
  {
   "cell_type": "code",
   "execution_count": 6,
   "metadata": {
    "ExecuteTime": {
     "end_time": "2020-10-28T19:07:44.354847Z",
     "start_time": "2020-10-28T19:07:18.125914Z"
    }
   },
   "outputs": [
    {
     "name": "stdout",
     "output_type": "stream",
     "text": [
      "discoveryplus.com/events/2020/10/28/bsft-events-discoveryplus.com-20201028170920-33.json.gz\n"
     ]
    }
   ],
   "source": [
    "paginator = s3.get_paginator('list_objects')\n",
    "if (datetime.today().hour+4)<=24:\n",
    "    for result in paginator.paginate(Bucket = bucket, Prefix=prefix_1):\n",
    "        for file in result.get('Contents', []):\n",
    "            if (int(file.get('Key').split('.')[-3].split('-')[-2][-6:]) >= 170000) & \\\n",
    "                (int(file.get('Key').split('.')[-3].split('-')[-2][-6:]) < 172000):\n",
    "                df_to_add=pd.read_json('s3://'+bucket+'/'+file.get('Key'),compression='gzip',lines = True)\n",
    "                df = pd.concat([df,df_to_add[df_to_add.event=='announcement - email submission']],\\\n",
    "                               sort=False,ignore_index=True)\n",
    "                if df_to_add[df_to_add.event=='announcement - email submission'].shape[0]!=0:\n",
    "                    print(file.get('Key'))\n",
    "else:\n",
    "    for result in paginator.paginate(Bucket = bucket, Prefix=prefix_2):\n",
    "        for file in result.get('Contents', []):\n",
    "            if (int(file.get('Key').split('.')[-3].split('-')[-2][-6:]) >= (datetime.today().hour-21)*10000) & \\\n",
    "                (int(file.get('Key').split('.')[-3].split('-')[-2][-6:]) < (datetime.today().hour-20)*10000):\n",
    "                df_to_add=pd.read_json('s3://'+bucket+'/'+file.get('Key'),compression='gzip',lines = True)\n",
    "                df = pd.concat([df,df_to_add[df_to_add.event=='announcement - email submission']],\\\n",
    "                               sort=False,ignore_index=True)"
   ]
  },
  {
   "cell_type": "code",
   "execution_count": 5,
   "metadata": {
    "ExecuteTime": {
     "end_time": "2020-10-28T19:05:52.656846Z",
     "start_time": "2020-10-28T19:05:52.612608Z"
    }
   },
   "outputs": [
    {
     "data": {
      "text/html": [
       "<div>\n",
       "<style scoped>\n",
       "    .dataframe tbody tr th:only-of-type {\n",
       "        vertical-align: middle;\n",
       "    }\n",
       "\n",
       "    .dataframe tbody tr th {\n",
       "        vertical-align: top;\n",
       "    }\n",
       "\n",
       "    .dataframe thead th {\n",
       "        text-align: right;\n",
       "    }\n",
       "</style>\n",
       "<table border=\"1\" class=\"dataframe\">\n",
       "  <thead>\n",
       "    <tr style=\"text-align: right;\">\n",
       "      <th></th>\n",
       "      <th>_bsft_ts</th>\n",
       "      <th>account_uuid</th>\n",
       "      <th>app_name</th>\n",
       "      <th>app_version</th>\n",
       "      <th>browser_platform</th>\n",
       "      <th>browser_type</th>\n",
       "      <th>browser_version</th>\n",
       "      <th>bsft_sdk_version</th>\n",
       "      <th>device_id</th>\n",
       "      <th>device_manufacturer</th>\n",
       "      <th>...</th>\n",
       "      <th>Product Update Notification Opt In</th>\n",
       "      <th>_bsft_flatten_hashes</th>\n",
       "      <th>_bsft_source</th>\n",
       "      <th>custom_event_type</th>\n",
       "      <th>email</th>\n",
       "      <th>event_type</th>\n",
       "      <th>mParticle Source Feed</th>\n",
       "      <th>name</th>\n",
       "      <th>timestamp_ms</th>\n",
       "      <th>unsubscribed</th>\n",
       "    </tr>\n",
       "  </thead>\n",
       "  <tbody>\n",
       "    <tr>\n",
       "      <th>0</th>\n",
       "      <td>NaN</td>\n",
       "      <td>906a7870-47f5-4e2a-8560-e8e4518e898c</td>\n",
       "      <td>NaN</td>\n",
       "      <td>NaN</td>\n",
       "      <td>NaN</td>\n",
       "      <td>NaN</td>\n",
       "      <td>NaN</td>\n",
       "      <td>NaN</td>\n",
       "      <td>NaN</td>\n",
       "      <td>NaN</td>\n",
       "      <td>...</td>\n",
       "      <td>True</td>\n",
       "      <td>0.0</td>\n",
       "      <td>mparticle</td>\n",
       "      <td>unknown</td>\n",
       "      <td>hd@test.com</td>\n",
       "      <td>custom_event</td>\n",
       "      <td>Announcement Page Email Capture</td>\n",
       "      <td>announcement - email submission</td>\n",
       "      <td>2020-10-28 17:04:23.924</td>\n",
       "      <td>0.0</td>\n",
       "    </tr>\n",
       "  </tbody>\n",
       "</table>\n",
       "<p>1 rows × 37 columns</p>\n",
       "</div>"
      ],
      "text/plain": [
       "  _bsft_ts                          account_uuid app_name app_version  \\\n",
       "0      NaN  906a7870-47f5-4e2a-8560-e8e4518e898c      NaN         NaN   \n",
       "\n",
       "   browser_platform browser_type browser_version bsft_sdk_version device_id  \\\n",
       "0               NaN          NaN             NaN              NaN       NaN   \n",
       "\n",
       "  device_manufacturer  ... Product Update Notification Opt In  \\\n",
       "0                 NaN  ...                               True   \n",
       "\n",
       "  _bsft_flatten_hashes  _bsft_source custom_event_type        email  \\\n",
       "0                  0.0     mparticle           unknown  hd@test.com   \n",
       "\n",
       "     event_type            mParticle Source Feed  \\\n",
       "0  custom_event  Announcement Page Email Capture   \n",
       "\n",
       "                              name            timestamp_ms unsubscribed  \n",
       "0  announcement - email submission 2020-10-28 17:04:23.924          0.0  \n",
       "\n",
       "[1 rows x 37 columns]"
      ]
     },
     "execution_count": 5,
     "metadata": {},
     "output_type": "execute_result"
    }
   ],
   "source": [
    "df"
   ]
  },
  {
   "cell_type": "code",
   "execution_count": 134,
   "metadata": {
    "ExecuteTime": {
     "end_time": "2020-10-20T21:10:24.586529Z",
     "start_time": "2020-10-20T21:09:40.881856Z"
    }
   },
   "outputs": [],
   "source": [
    "paginator = s3.get_paginator('list_objects')\n",
    "if (datetime.today().hour+4)<=24:\n",
    "    for result in paginator.paginate(Bucket = bucket, Prefix=prefix_1):\n",
    "        for file in result.get('Contents', []):\n",
    "            if (int(file.get('Key').split('.')[-3].split('-')[-2][-6:]) >= (datetime.today().hour+3)*10000) & \\\n",
    "                (int(file.get('Key').split('.')[-3].split('-')[-2][-6:]) < (datetime.today().hour+4)*10000):\n",
    "                df_to_add=pd.read_json('s3://'+bucket+'/'+file.get('Key'),compression='gzip',lines = True)\n",
    "                df = pd.concat([df,df_to_add[df_to_add.event=='announcement - email submission']],\\\n",
    "                               sort=False,ignore_index=True)\n",
    "else:\n",
    "    for result in paginator.paginate(Bucket = bucket, Prefix=prefix_2):\n",
    "        for file in result.get('Contents', []):\n",
    "            if (int(file.get('Key').split('.')[-3].split('-')[-2][-6:]) >= (datetime.today().hour-21)*10000) & \\\n",
    "                (int(file.get('Key').split('.')[-3].split('-')[-2][-6:]) < (datetime.today().hour-20)*10000):\n",
    "                df_to_add=pd.read_json('s3://'+bucket+'/'+file.get('Key'),compression='gzip',lines = True)\n",
    "                df = pd.concat([df,df_to_add[df_to_add.event=='announcement - email submission']],\\\n",
    "                               sort=False,ignore_index=True)"
   ]
  },
  {
   "cell_type": "code",
   "execution_count": 135,
   "metadata": {
    "ExecuteTime": {
     "end_time": "2020-10-20T21:10:24.601221Z",
     "start_time": "2020-10-20T21:10:24.589151Z"
    }
   },
   "outputs": [
    {
     "data": {
      "text/plain": [
       "Index(['_bsft_ts', 'account_uuid', 'app_name', 'app_version',\n",
       "       'browser_platform', 'browser_type', 'browser_version',\n",
       "       'bsft_sdk_version', 'device_id', 'device_manufacturer', 'device_token',\n",
       "       'device_type', 'enable_inapp', 'event', 'event_uuid',\n",
       "       'limit_ad_tracking', 'network_carrier', 'os_name', 'session_uuid',\n",
       "       'site', 'timestamp', 'timestamp_epoch', 'user_agent', 'user_uuid',\n",
       "       'build_number', 'bundle_identifier', 'device_idfv',\n",
       "       'Product Update Notification Opt In', '_bsft_flatten_hashes',\n",
       "       '_bsft_source', 'custom_event_type', 'email', 'event_type',\n",
       "       'mParticle Source Feed', 'name', 'timestamp_ms', 'unsubscribed'],\n",
       "      dtype='object')"
      ]
     },
     "execution_count": 135,
     "metadata": {},
     "output_type": "execute_result"
    }
   ],
   "source": [
    "df.columns"
   ]
  },
  {
   "cell_type": "code",
   "execution_count": 144,
   "metadata": {
    "ExecuteTime": {
     "end_time": "2020-10-20T21:33:29.164133Z",
     "start_time": "2020-10-20T21:33:29.147937Z"
    }
   },
   "outputs": [
    {
     "data": {
      "text/html": [
       "<div>\n",
       "<style scoped>\n",
       "    .dataframe tbody tr th:only-of-type {\n",
       "        vertical-align: middle;\n",
       "    }\n",
       "\n",
       "    .dataframe tbody tr th {\n",
       "        vertical-align: top;\n",
       "    }\n",
       "\n",
       "    .dataframe thead th {\n",
       "        text-align: right;\n",
       "    }\n",
       "</style>\n",
       "<table border=\"1\" class=\"dataframe\">\n",
       "  <thead>\n",
       "    <tr style=\"text-align: right;\">\n",
       "      <th></th>\n",
       "      <th>email</th>\n",
       "      <th>timestamp</th>\n",
       "    </tr>\n",
       "  </thead>\n",
       "  <tbody>\n",
       "    <tr>\n",
       "      <th>0</th>\n",
       "      <td>Sam_Dunn@discovery.com</td>\n",
       "      <td>2020-10-20 10:30:19</td>\n",
       "    </tr>\n",
       "    <tr>\n",
       "      <th>1</th>\n",
       "      <td>han_deng@discovery.com</td>\n",
       "      <td>2020-10-20 20:57:37</td>\n",
       "    </tr>\n",
       "  </tbody>\n",
       "</table>\n",
       "</div>"
      ],
      "text/plain": [
       "                    email           timestamp\n",
       "0  Sam_Dunn@discovery.com 2020-10-20 10:30:19\n",
       "1  han_deng@discovery.com 2020-10-20 20:57:37"
      ]
     },
     "execution_count": 144,
     "metadata": {},
     "output_type": "execute_result"
    }
   ],
   "source": [
    "df.groupby(['email']).timestamp.min().to_frame().reset_index()"
   ]
  },
  {
   "cell_type": "code",
   "execution_count": 148,
   "metadata": {
    "ExecuteTime": {
     "end_time": "2020-10-20T21:41:07.165602Z",
     "start_time": "2020-10-20T21:41:06.499522Z"
    }
   },
   "outputs": [],
   "source": [
    "creds = json.load(open('//Users/hdeng/Downloads/credentials.json'))\n",
    "redshift_cred = creds['rs_cred']\n",
    "engine_url = \"postgresql://{0}:{1}@{2}:{3}/{4}\".format(redshift_cred['user'],\n",
    "                                                        redshift_cred['pwd'],\n",
    "                                                        redshift_cred['host'],\n",
    "                                                        redshift_cred['port'],\n",
    "                                                        redshift_cred['dbase'])\n",
    "conn = create_engine(engine_url).connect()"
   ]
  },
  {
   "cell_type": "code",
   "execution_count": 149,
   "metadata": {
    "ExecuteTime": {
     "end_time": "2020-10-20T21:41:55.015348Z",
     "start_time": "2020-10-20T21:41:54.168955Z"
    }
   },
   "outputs": [
    {
     "data": {
      "text/html": [
       "<div>\n",
       "<style scoped>\n",
       "    .dataframe tbody tr th:only-of-type {\n",
       "        vertical-align: middle;\n",
       "    }\n",
       "\n",
       "    .dataframe tbody tr th {\n",
       "        vertical-align: top;\n",
       "    }\n",
       "\n",
       "    .dataframe thead th {\n",
       "        text-align: right;\n",
       "    }\n",
       "</style>\n",
       "<table border=\"1\" class=\"dataframe\">\n",
       "  <thead>\n",
       "    <tr style=\"text-align: right;\">\n",
       "      <th></th>\n",
       "      <th>email</th>\n",
       "    </tr>\n",
       "  </thead>\n",
       "  <tbody>\n",
       "    <tr>\n",
       "      <th>0</th>\n",
       "      <td>cassandra_lim@discovery.com</td>\n",
       "    </tr>\n",
       "    <tr>\n",
       "      <th>1</th>\n",
       "      <td>pixeltest@mtodemail.com</td>\n",
       "    </tr>\n",
       "    <tr>\n",
       "      <th>2</th>\n",
       "      <td>courtney_wright@discovery.com</td>\n",
       "    </tr>\n",
       "    <tr>\n",
       "      <th>3</th>\n",
       "      <td>molly_hoffmaster@discovery.com</td>\n",
       "    </tr>\n",
       "    <tr>\n",
       "      <th>4</th>\n",
       "      <td>violet_ding@discovery.com</td>\n",
       "    </tr>\n",
       "  </tbody>\n",
       "</table>\n",
       "</div>"
      ],
      "text/plain": [
       "                            email\n",
       "0     cassandra_lim@discovery.com\n",
       "1         pixeltest@mtodemail.com\n",
       "2   courtney_wright@discovery.com\n",
       "3  molly_hoffmaster@discovery.com\n",
       "4       violet_ding@discovery.com"
      ]
     },
     "execution_count": 149,
     "metadata": {},
     "output_type": "execute_result"
    }
   ],
   "source": [
    "red=pd.read_sql('select distinct email from digital_analytics_dev.blueshift_ap_signup_raw',conn)"
   ]
  },
  {
   "cell_type": "code",
   "execution_count": 158,
   "metadata": {
    "ExecuteTime": {
     "end_time": "2020-10-20T21:47:24.323503Z",
     "start_time": "2020-10-20T21:47:24.262793Z"
    }
   },
   "outputs": [],
   "source": [
    "df=df[~df.email.isin(red.email.tolist())][['email','timestamp']]\n",
    "df['unknown']=''\n",
    "df['first_name']=''"
   ]
  },
  {
   "cell_type": "code",
   "execution_count": null,
   "metadata": {},
   "outputs": [],
   "source": [
    "# df_pivot=pd.pivot_table(df_fans,index=['id','platform'], columns='metric',values='data',aggfunc=np.sum)\n",
    "df[['unknown','email','first_name','timestamp']].to_sql('blueshift_ap_signup_raw', conn, index = False ,if_exists = 'append', \\\n",
    "          schema = 'digital_analytics_dev', chunksize = 1000)\n",
    "conn.close()"
   ]
  },
  {
   "cell_type": "code",
   "execution_count": null,
   "metadata": {},
   "outputs": [],
   "source": [
    "conn2=psycopg2.connect(dbname=redshift_cred['dbase'],\n",
    "                        host=redshift_cred['host'],\n",
    "                        port=redshift_cred['port'],\n",
    "                        user=redshift_cred['user'],\n",
    "                        password=redshift_cred['pwd'])\n",
    "cur=conn2.cursor()\n",
    "conn2.autocommit=True"
   ]
  },
  {
   "cell_type": "code",
   "execution_count": null,
   "metadata": {},
   "outputs": [],
   "source": [
    "cur.execute('''\n",
    "            insert into digital_analytics.blueshift_ap_signup_hourly\n",
    "            select distinct\n",
    "                now() as timestamp,\n",
    "                count(distinct email) email_countt\n",
    "            from digital_analytics_dev.blueshift_ap_signup_raw\n",
    "            where email not like '%@discovery.com%' and \n",
    "            email not like '%@motortrend.com%' and\n",
    "            date(DATEADD('hour',-4,cast(joined_date as timestamp)))=current_date\n",
    "            group by 1\n",
    "            ''')"
   ]
  },
  {
   "cell_type": "code",
   "execution_count": null,
   "metadata": {},
   "outputs": [],
   "source": [
    "cur.close()\n",
    "conn2.close()"
   ]
  },
  {
   "cell_type": "code",
   "execution_count": null,
   "metadata": {},
   "outputs": [],
   "source": []
  }
 ],
 "metadata": {
  "kernelspec": {
   "display_name": "Python 3",
   "language": "python",
   "name": "python3"
  },
  "language_info": {
   "codemirror_mode": {
    "name": "ipython",
    "version": 3
   },
   "file_extension": ".py",
   "mimetype": "text/x-python",
   "name": "python",
   "nbconvert_exporter": "python",
   "pygments_lexer": "ipython3",
   "version": "3.7.3"
  }
 },
 "nbformat": 4,
 "nbformat_minor": 2
}
